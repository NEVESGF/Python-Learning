{
 "cells": [
  {
   "cell_type": "code",
   "execution_count": 1,
   "metadata": {},
   "outputs": [
    {
     "name": "stdout",
     "output_type": "stream",
     "text": [
      "A temperatura em Celsius é de 10.0º\n"
     ]
    }
   ],
   "source": [
    "'''\n",
    "Exercício 3.1\n",
    "Implemente um programa que solicita a temperatura atual em graus Fahrenheit do usuário e exibe a temperatura em graus Celsius usando a fórmula\n",
    "celsius space equals 5 over 9 left parenthesis text  fahrenheit  end text minus 32 right parenthesis.\n",
    "Seu programa deverá ser executado da seguinte forma:\n",
    ">>>\n",
    "Digite a temperatura em graus Fahrenheit: 50\n",
    "A temperatura em graus Celsius é 10.0\n",
    "'''\n",
    "\n",
    "# C = 5/9 * (F - 32)\n",
    "\n",
    "F = float(input(\"Digite a temperatura em Fahrenheit: \"))\n",
    "C = 5/9 * (F - 32)\n",
    "print(f'A temperatura em Celsius é de {C}º')"
   ]
  },
  {
   "cell_type": "code",
   "execution_count": 4,
   "metadata": {},
   "outputs": [
    {
     "name": "stdout",
     "output_type": "stream",
     "text": [
      "2.75\n"
     ]
    }
   ],
   "source": [
    "''' \n",
    "Exercício 3.8\n",
    "Defina, diretamente no shell interativo, a função média(), que aceita dois números como entrada e retorna a média dos números. \n",
    "Um exemplo de uso é:\n",
    ">>> average(2, 3.5)\n",
    "2.75\n",
    "'''\n",
    "\n",
    "def média(a,b):\n",
    "    media = (a + b) / 2\n",
    "    print(media)\n",
    "\n",
    "média(2,3.5)"
   ]
  },
  {
   "cell_type": "code",
   "execution_count": 5,
   "metadata": {},
   "outputs": [
    {
     "name": "stdout",
     "output_type": "stream",
     "text": [
      "6.283185307179586\n"
     ]
    }
   ],
   "source": [
    "''' \n",
    "Exercício 3.9\n",
    "Implemente a função perímetro(), que aceita, como entrada, o raio de um círculo (um número não negativo) e retorna o \n",
    "perímetro do círculo. \n",
    "Você deverá escrever sua implementação em um módulo chamado perímetro.py. Um exemplo de uso é:\n",
    ">>> perimeter(1)\n",
    "6.283185307179586\n",
    "'''\n",
    "\n",
    "from math import pi\n",
    "\n",
    "def perímetro(r):\n",
    "    p = 2 * pi * r\n",
    "    print(p)\n",
    "\n",
    "perímetro(1)"
   ]
  },
  {
   "cell_type": "code",
   "execution_count": 4,
   "metadata": {},
   "outputs": [
    {
     "name": "stdout",
     "output_type": "stream",
     "text": [
      "-1\n",
      "-3\n",
      "-9\n"
     ]
    }
   ],
   "source": [
    "''' \n",
    "Exercício 3.10\n",
    "Escreva a função negativos(), que aceita uma lista como entrada e exibe, um por linha, \n",
    "os valores negativos na lista. A função não deverá retornar nada.\n",
    ">>> negatives([4, 0, −1, −3, 6, −9])\n",
    "-1\n",
    "-3\n",
    "-9\n",
    "'''\n",
    "\n",
    "def negativos(*valores_negativos):\n",
    "    for i in valores_negativos:\n",
    "        if i <0:\n",
    "            print(i)\n",
    "\n",
    "negativos(4, 0, -1, -3, 6, -9)"
   ]
  },
  {
   "cell_type": "code",
   "execution_count": 6,
   "metadata": {},
   "outputs": [
    {
     "name": "stdout",
     "output_type": "stream",
     "text": [
      "Help on function média in module __main__:\n",
      "\n",
      "média(a, b)\n",
      "    A função média demonstra a média entre dois valores a e b\n",
      "\n",
      "Help on function negativos in module __main__:\n",
      "\n",
      "negativos(*valores_negativos)\n",
      "    A função negativos apresenta na tela todos os valores negativos em uma lista (infinita)\n",
      "\n"
     ]
    }
   ],
   "source": [
    "'''\n",
    "Exercício 3.11\n",
    "Acrescente a docstring retorna a média de x e y à função média() e a docstring \n",
    "exibe os números negativos contidos na lista lst à função negativos() dos Problemas\n",
    " Práticos 3.8 e 3.10. Verifique seu trabalho usando a ferramenta de documentação help().\n",
    " V ocê deverá receber, por exemplo:\n",
    ">>> help(média)\n",
    "Ajuda sobre a função média no módulo __main__:\n",
    "média(x, y)\n",
    "retorna a média de x e y\n",
    "'''\n",
    "\n",
    "def média(a,b):\n",
    "    '''\n",
    "    A função média demonstra a média entre dois valores a e b\n",
    "    '''\n",
    "    media = (a + b) / 2\n",
    "    print(media)\n",
    "\n",
    "def negativos(*valores_negativos):\n",
    "    ''' \n",
    "    A função negativos apresenta na tela todos os valores negativos em uma lista (infinita)\n",
    "    '''\n",
    "    for i in valores_negativos:\n",
    "        if i <0:\n",
    "            print(i)\n",
    "\n",
    "help(média)\n",
    "help(negativos)"
   ]
  },
  {
   "cell_type": "code",
   "execution_count": 2,
   "metadata": {},
   "outputs": [
    {
     "name": "stdout",
     "output_type": "stream",
     "text": [
      "<class 'int'>\n",
      "<class 'list'>\n",
      "<class 'int'>\n"
     ]
    }
   ],
   "source": [
    "'''\n",
    "Exercício 3.12\n",
    "Desenhe um diagrama representando o estado dos nomes e objetos após esta execução:\n",
    ">>> a = [5, 6, 7]\n",
    ">>> b = a\n",
    ">>> a = 3\n",
    "'''\n",
    "\n",
    "a = [5, 6, 7]\n",
    "b = a\n",
    "a = 3\n",
    "\n",
    "print(type(a))\n",
    "print(type(b))\n",
    "print(type(a))"
   ]
  },
  {
   "cell_type": "code",
   "execution_count": 19,
   "metadata": {},
   "outputs": [],
   "source": [
    "''' \n",
    "\n",
    "Exercício 3.13\n",
    "Suponha que uma lista não vazia time foi atribuída. Escreva uma instrução Python ou instruções que mapeiam o primeiro e \n",
    "último valor da lista. Assim, se a lista original for:\n",
    ">>> time = [’Ava’, ’Eleanor’, ’Clare’, ’Sarah’]\n",
    "então a lista resultante deverá ser:\n",
    ">>> time\n",
    "[’Sarah’, ’Eleanor’, ’Clare’, ’Ava’]\n",
    "'''\n",
    "\n",
    "nomes = list()\n",
    "nomes = ['Ava', 'Eleanor', 'Clare', 'Sarah']\n",
    "\n"
   ]
  },
  {
   "cell_type": "code",
   "execution_count": null,
   "metadata": {},
   "outputs": [],
   "source": [
    "\"\"\" \n",
    "Exercício 3.14 Implemente a função trocaPU(), que aceita uma lista como entrada e \n",
    "troca o primeiro e último elementos da lista. Você pode considerar que a lista não estará vazia. \n",
    "\n",
    "A função não deverá retornar nada.\n",
    "\n",
    "ingredientes = [’farinha’, ’açúcar’, ’manteiga’, ’maçãs’] \n",
    "\n",
    "trocaPU(ingredientes) ingredientes\n",
    "\n",
    "[’maçãs’, ’açúcar’, ’manteiga’, ’farinha’]\n",
    "\"\"\""
   ]
  }
 ],
 "metadata": {
  "kernelspec": {
   "display_name": "Python 3",
   "language": "python",
   "name": "python3"
  },
  "language_info": {
   "codemirror_mode": {
    "name": "ipython",
    "version": 3
   },
   "file_extension": ".py",
   "mimetype": "text/x-python",
   "name": "python",
   "nbconvert_exporter": "python",
   "pygments_lexer": "ipython3",
   "version": "3.10.4"
  },
  "orig_nbformat": 4,
  "vscode": {
   "interpreter": {
    "hash": "3ad933181bd8a04b432d3370b9dc3b0662ad032c4dfaa4e4f1596c548f763858"
   }
  }
 },
 "nbformat": 4,
 "nbformat_minor": 2
}
