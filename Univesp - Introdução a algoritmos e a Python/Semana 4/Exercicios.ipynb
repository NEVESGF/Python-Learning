{
 "cells": [
  {
   "attachments": {},
   "cell_type": "markdown",
   "metadata": {},
   "source": [
    "Exercício 3.1\n",
    "Implemente um programa que solicita a temperatura atual em graus Fahrenheit do usuário e exibe a temperatura em graus Celsius usando a fórmula\n",
    "celsius space equals 5 over 9 left parenthesis text  fahrenheit  end text minus 32 right parenthesis.\n",
    "Seu programa deverá ser executado da seguinte forma:\n",
    ">>>\n",
    "Digite a temperatura em graus Fahrenheit: 50\n",
    "A temperatura em graus Celsius é 10.0\n",
    " \n",
    "Exercício 3.8\n",
    "Defina, diretamente no shell interativo, a função média(), que aceita dois números como entrada e retorna a média dos números. Um exemplo de uso é:\n",
    ">>> average(2, 3.5)\n",
    "2.75\n",
    " \n",
    "Exercício 3.9\n",
    "Implemente a função perímetro(), que aceita, como entrada, o raio de um círculo (um número não negativo) e retorna o perímetro do círculo. Você deverá escrever sua implementação em um módulo chamado perímetro.py. Um exemplo de uso é:\n",
    ">>> perimeter(1)\n",
    "6.283185307179586\n",
    " \n",
    "Exercício 3.10\n",
    "Escreva a função negativos(), que aceita uma lista como entrada e exibe, um por linha, os valores negativos na lista. A função não deverá retornar nada.\n",
    ">>> negatives([4, 0, −1, −3, 6, −9])\n",
    "-1\n",
    "-3\n",
    "-9\n",
    " \n",
    "Exercício 3.11\n",
    "Acrescente a docstring retorna a média de x e y à função média() e a docstring exibe os números negativos contidos na lista lst à função negativos() dos Problemas Práticos 3.8 e 3.10. Verifique seu trabalho usando a ferramenta de documentação help(). Você deverá receber, por exemplo:\n",
    ">>> help(média)\n",
    "Ajuda sobre a função média no módulo __main__:\n",
    "média(x, y)\n",
    "retorna a média de x e y\n",
    " \n",
    "Exercício 3.12\n",
    "Desenhe um diagrama representando o estado dos nomes e objetos após esta execução:\n",
    ">>> a = [5, 6, 7]\n",
    ">>> b = a\n",
    ">>> a = 3\n",
    " \n",
    "Exercício 3.13\n",
    "Suponha que uma lista não vazia time foi atribuída. Escreva uma instrução Python ou instruções que mapeiam o primeiro e último valor da lista. Assim, se a lista original for:\n",
    ">>> time = [’Ava’, ’Eleanor’, ’Clare’, ’Sarah’]\n",
    "então a lista resultante deverá ser:\n",
    ">>> time\n",
    "[’Sarah’, ’Eleanor’, ’Clare’, ’Ava’]\n",
    " \n",
    "Exercício 3.14\n",
    "Implemente a função trocaPU(), que aceita uma lista como entrada e troca o primeiro e último elementos da lista. Você pode considerar que a lista não estará vazia. A função não deverá retornar nada.\n",
    ">>> ingredientes = [’farinha’, ’açúcar’, ’manteiga’, ’maçãs’]\n",
    ">>> trocaPU(ingredientes)\n",
    ">>> ingredientes\n",
    "[’maçãs’, ’açúcar’, ’manteiga’, ’farinha’]\n",
    " \n"
   ]
  },
  {
   "cell_type": "code",
   "execution_count": null,
   "metadata": {},
   "outputs": [],
   "source": []
  }
 ],
 "metadata": {
  "language_info": {
   "name": "python"
  },
  "orig_nbformat": 4
 },
 "nbformat": 4,
 "nbformat_minor": 2
}
