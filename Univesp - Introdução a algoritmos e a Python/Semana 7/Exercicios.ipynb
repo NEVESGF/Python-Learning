{
 "cells": [
  {
   "cell_type": "code",
   "execution_count": 2,
   "metadata": {},
   "outputs": [
    {
     "name": "stdout",
     "output_type": "stream",
     "text": [
      "234\n",
      "78\n",
      "1234567\n",
      "0123\n",
      "789\n"
     ]
    }
   ],
   "source": [
    "'''\n",
    "Comece executando a atribuição:\n",
    "\n",
    "s = '0123456789'\n",
    "Agora, escreva expressões (usando s e o operador de indexação) que sejam avaliadas como:\n",
    "(a) '234'\n",
    "(b) '78'\n",
    "(c) '1234567'\n",
    "(d) '0123'\n",
    "(e) '789'\n",
    "'''\n",
    "\n",
    "s = '0123456789'\n",
    "\n",
    "print(s[2:5])\n",
    "print(s[7:9])\n",
    "print(s[1:8])\n",
    "print(s[0:4])\n",
    "print(s[7:10])\n"
   ]
  },
  {
   "cell_type": "code",
   "execution_count": 19,
   "metadata": {},
   "outputs": [
    {
     "name": "stdout",
     "output_type": "stream",
     "text": [
      "A string 'day' aparece 2 vezes.\n",
      "O index que aparece a palavra 'sunny' é 13\n",
      "It will be a cloudy day today\n"
     ]
    }
   ],
   "source": [
    "''' \n",
    "\n",
    " \n",
    "Exercício 4.2\n",
    "Supondo que a variável previsão tenha recebido a string\n",
    "'It will be a sunny day today'\n",
    "escreva instruções Python correspondentes a estas atribuições:\n",
    "(a) A variável cont, a quantidade de ocorrências da string 'day' na string previsão.\n",
    "(b) A variável clima, o índice em que a substring 'sunny' começa.\n",
    "(c) A variável troca, uma cópia de previsão na qual cada ocorrência da substring 'sunny' é substituída por 'cloudy'.\n",
    " \n",
    "'''\n",
    "\n",
    "# (a) A variável cont, a quantidade de ocorrências da string 'day' na string previsão.\n",
    "previsao = 'It will be a sunny day today'\n",
    "Ab = previsao.count(\"day\")\n",
    "print(f\"A string 'day' aparece {Ab} vezes.\")\n",
    "\n",
    "#(b) A variável clima, o índice em que a substring 'sunny' começa.\n",
    "Aa = previsao.index(\"sunny\")\n",
    "print(f\"O index que aparece a palavra 'sunny' é {Aa}\")\n",
    "\n",
    "#(c) A variável troca, uma cópia de previsão na qual cada ocorrência da substring 'sunny' é substituída por 'cloudy'.\n",
    "\n",
    "troca = previsao.replace('sunny','cloudy')\n",
    "print(troca)\n"
   ]
  },
  {
   "cell_type": "code",
   "execution_count": 1,
   "metadata": {},
   "outputs": [
    {
     "name": "stdout",
     "output_type": "stream",
     "text": [
      "[4, 8, 4, 5]\n",
      "[5, 2, 10, 3]\n",
      "[8, 4, 6, 6]\n"
     ]
    }
   ],
   "source": [
    "''' \n",
    "\n",
    "Exercício 5.9\n",
    "Escreva uma função soma2D() que aceita duas listas bidimensionais do mesmo tamanho (ou seja, o mesmo número de linhas e colunas) como argumentos de entrada e incrementa cada entrada na primeira lista com o valor da entrada correspondente na segunda lista.\n",
    ">>> t = [[4, 7, 2, 5], [5, 1, 9, 2], [8, 3, 6, 6]]\n",
    ">>> s = [[0, 1, 2, 0], [0, 1, 1, 1], [0, 1, 0, 0]]\n",
    ">>> soma2D(t,s)\n",
    ">>> for linha in t:\n",
    "      print(linha)\n",
    "[4, 8, 4, 5]\n",
    "[5, 2, 10, 3]\n",
    "[8, 4, 6, 6]\n",
    " \n",
    "'''\n",
    "t = [[4, 7, 2, 5], [5, 1, 9, 2], [8, 3, 6, 6]]\n",
    "s = [[0, 1, 2, 0], [0, 1, 1, 1], [0, 1, 0, 0]]\n",
    "\n",
    "def soma2D(a,b):\n",
    "      global lista\n",
    "      lista = list()\n",
    "      for l in range(0,3):\n",
    "            lista.append([])\n",
    "            for i in range(0,4):\n",
    "                  a = t[l][i]\n",
    "                  b = s[l][i]\n",
    "                  sum = a + b \n",
    "                  lista[l].append(sum)\n",
    "                  \n",
    "      return lista\n",
    "      \n",
    "\n",
    "soma2D(t,s)\n",
    "for linha in lista:\n",
    "      print(linha)\n",
    "      print('FIM')"
   ]
  }
 ],
 "metadata": {
  "kernelspec": {
   "display_name": "Python 3",
   "language": "python",
   "name": "python3"
  },
  "language_info": {
   "codemirror_mode": {
    "name": "ipython",
    "version": 3
   },
   "file_extension": ".py",
   "mimetype": "text/x-python",
   "name": "python",
   "nbconvert_exporter": "python",
   "pygments_lexer": "ipython3",
   "version": "3.10.4"
  },
  "orig_nbformat": 4,
  "vscode": {
   "interpreter": {
    "hash": "916dbcbb3f70747c44a77c7bcd40155683ae19c65e1c03b4aa3499c5328201f1"
   }
  }
 },
 "nbformat": 4,
 "nbformat_minor": 2
}
