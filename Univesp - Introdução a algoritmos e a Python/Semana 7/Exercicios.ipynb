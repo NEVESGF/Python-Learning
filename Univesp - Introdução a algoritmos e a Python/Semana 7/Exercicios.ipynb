{
 "cells": [
  {
   "attachments": {},
   "cell_type": "markdown",
   "metadata": {},
   "source": [
    "Comece executando a atribuição:\n",
    "\n",
    "s = '0123456789'\n",
    "Agora, escreva expressões (usando s e o operador de indexação) que sejam avaliadas como:\n",
    "(a) '234'\n",
    "(b) '78'\n",
    "(c) '1234567'\n",
    "(d) '0123'\n",
    "(e) '789'\n",
    " \n",
    "Exercício 4.2\n",
    "Supondo que a variável previsão tenha recebido a string\n",
    "'It will be a sunny day today'\n",
    "escreva instruções Python correspondentes a estas atribuições:\n",
    "(a) A variável cont, a quantidade de ocorrências da string 'day' na string previsão.\n",
    "(b) A variável clima, o índice em que a substring 'sunny' começa.\n",
    "(c) A variável troca, uma cópia de previsão na qual cada ocorrência da substring 'sunny' é substituída por 'cloudy'.\n",
    " \n",
    "Exercício 5.9\n",
    "Escreva uma função soma2D() que aceita duas listas bidimensionais do mesmo tamanho (ou seja, o mesmo número de linhas e colunas) como argumentos de entrada e incrementa cada entrada na primeira lista com o valor da entrada correspondente na segunda lista.\n",
    ">>> t = [[4, 7, 2, 5], [5, 1, 9, 2], [8, 3, 6, 6]]\n",
    ">>> s = [[0, 1, 2, 0], [0, 1, 1, 1], [0, 1, 0, 0]]\n",
    ">>> soma2D(t,s)\n",
    ">>> for linha in t:\n",
    "      print(linha)\n",
    "[4, 8, 4, 5]\n",
    "[5, 2, 10, 3]\n",
    "[8, 4, 6, 6]\n",
    " "
   ]
  },
  {
   "cell_type": "code",
   "execution_count": null,
   "metadata": {},
   "outputs": [],
   "source": []
  }
 ],
 "metadata": {
  "language_info": {
   "name": "python"
  },
  "orig_nbformat": 4
 },
 "nbformat": 4,
 "nbformat_minor": 2
}
