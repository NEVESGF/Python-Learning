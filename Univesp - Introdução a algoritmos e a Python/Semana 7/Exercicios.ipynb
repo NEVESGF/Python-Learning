{
 "cells": [
  {
   "cell_type": "code",
   "execution_count": 2,
   "metadata": {},
   "outputs": [
    {
     "name": "stdout",
     "output_type": "stream",
     "text": [
      "234\n",
      "78\n",
      "1234567\n",
      "0123\n",
      "789\n"
     ]
    }
   ],
   "source": [
    "'''\n",
    "Comece executando a atribuição:\n",
    "\n",
    "s = '0123456789'\n",
    "Agora, escreva expressões (usando s e o operador de indexação) que sejam avaliadas como:\n",
    "(a) '234'\n",
    "(b) '78'\n",
    "(c) '1234567'\n",
    "(d) '0123'\n",
    "(e) '789'\n",
    "'''\n",
    "\n",
    "s = '0123456789'\n",
    "\n",
    "print(s[2:5])\n",
    "print(s[7:9])\n",
    "print(s[1:8])\n",
    "print(s[0:4])\n",
    "print(s[7:10])\n"
   ]
  },
  {
   "cell_type": "code",
   "execution_count": 19,
   "metadata": {},
   "outputs": [
    {
     "name": "stdout",
     "output_type": "stream",
     "text": [
      "A string 'day' aparece 2 vezes.\n",
      "O index que aparece a palavra 'sunny' é 13\n",
      "It will be a cloudy day today\n"
     ]
    }
   ],
   "source": [
    "''' \n",
    "\n",
    " \n",
    "Exercício 4.2\n",
    "Supondo que a variável previsão tenha recebido a string\n",
    "'It will be a sunny day today'\n",
    "escreva instruções Python correspondentes a estas atribuições:\n",
    "(a) A variável cont, a quantidade de ocorrências da string 'day' na string previsão.\n",
    "(b) A variável clima, o índice em que a substring 'sunny' começa.\n",
    "(c) A variável troca, uma cópia de previsão na qual cada ocorrência da substring 'sunny' é substituída por 'cloudy'.\n",
    " \n",
    "'''\n",
    "\n",
    "# (a) A variável cont, a quantidade de ocorrências da string 'day' na string previsão.\n",
    "previsao = 'It will be a sunny day today'\n",
    "Ab = previsao.count(\"day\")\n",
    "print(f\"A string 'day' aparece {Ab} vezes.\")\n",
    "\n",
    "#(b) A variável clima, o índice em que a substring 'sunny' começa.\n",
    "Aa = previsao.index(\"sunny\")\n",
    "print(f\"O index que aparece a palavra 'sunny' é {Aa}\")\n",
    "\n",
    "#(c) A variável troca, uma cópia de previsão na qual cada ocorrência da substring 'sunny' é substituída por 'cloudy'.\n",
    "\n",
    "troca = previsao.replace('sunny','cloudy')\n",
    "print(troca)\n"
   ]
  },
  {
   "cell_type": "code",
   "execution_count": 1,
   "metadata": {},
   "outputs": [
    {
     "name": "stdout",
     "output_type": "stream",
     "text": [
      "5\n",
      "2\n",
      "10\n",
      "3\n"
     ]
    },
    {
     "ename": "IndexError",
     "evalue": "list index out of range",
     "output_type": "error",
     "traceback": [
      "\u001b[0;31m---------------------------------------------------------------------------\u001b[0m",
      "\u001b[0;31mIndexError\u001b[0m                                Traceback (most recent call last)",
      "Cell \u001b[0;32mIn[1], line 26\u001b[0m\n\u001b[1;32m     23\u001b[0m             \u001b[39msum\u001b[39m \u001b[39m=\u001b[39m a \u001b[39m+\u001b[39m b \n\u001b[1;32m     24\u001b[0m             \u001b[39mprint\u001b[39m(\u001b[39msum\u001b[39m)\n\u001b[0;32m---> 26\u001b[0m soma2D(t,s)\n",
      "Cell \u001b[0;32mIn[1], line 21\u001b[0m, in \u001b[0;36msoma2D\u001b[0;34m(a, b)\u001b[0m\n\u001b[1;32m     18\u001b[0m \u001b[39mdef\u001b[39;00m \u001b[39msoma2D\u001b[39m(a,b):\n\u001b[1;32m     20\u001b[0m       \u001b[39mfor\u001b[39;00m i \u001b[39min\u001b[39;00m \u001b[39mrange\u001b[39m(\u001b[39m0\u001b[39m,\u001b[39m5\u001b[39m):\n\u001b[0;32m---> 21\u001b[0m             a \u001b[39m=\u001b[39m t[\u001b[39m1\u001b[39;49m][i]\n\u001b[1;32m     22\u001b[0m             b \u001b[39m=\u001b[39m s[\u001b[39m1\u001b[39m][i]\n\u001b[1;32m     23\u001b[0m             \u001b[39msum\u001b[39m \u001b[39m=\u001b[39m a \u001b[39m+\u001b[39m b \n",
      "\u001b[0;31mIndexError\u001b[0m: list index out of range"
     ]
    }
   ],
   "source": [
    "''' \n",
    "\n",
    "Exercício 5.9\n",
    "Escreva uma função soma2D() que aceita duas listas bidimensionais do mesmo tamanho (ou seja, o mesmo número de linhas e colunas) como argumentos de entrada e incrementa cada entrada na primeira lista com o valor da entrada correspondente na segunda lista.\n",
    ">>> t = [[4, 7, 2, 5], [5, 1, 9, 2], [8, 3, 6, 6]]\n",
    ">>> s = [[0, 1, 2, 0], [0, 1, 1, 1], [0, 1, 0, 0]]\n",
    ">>> soma2D(t,s)\n",
    ">>> for linha in t:\n",
    "      print(linha)\n",
    "[4, 8, 4, 5]\n",
    "[5, 2, 10, 3]\n",
    "[8, 4, 6, 6]\n",
    " \n",
    "'''\n",
    "t = [[4, 7, 2, 5], [5, 1, 9, 2], [8, 3, 6, 6]]\n",
    "s = [[0, 1, 2, 0], [0, 1, 1, 1], [0, 1, 0, 0]]\n",
    "\n",
    "def soma2D(a,b):\n",
    "\n",
    "      for i in range(0,4):\n",
    "            a = t[1][i]\n",
    "            b = s[1][i]\n",
    "            sum = a + b \n",
    "            print(sum)\n",
    "                  \n",
    "soma2D(t,s)"
   ]
  }
 ],
 "metadata": {
  "kernelspec": {
   "display_name": "Python 3",
   "language": "python",
   "name": "python3"
  },
  "language_info": {
   "codemirror_mode": {
    "name": "ipython",
    "version": 3
   },
   "file_extension": ".py",
   "mimetype": "text/x-python",
   "name": "python",
   "nbconvert_exporter": "python",
   "pygments_lexer": "ipython3",
   "version": "3.10.6"
  },
  "orig_nbformat": 4
 },
 "nbformat": 4,
 "nbformat_minor": 2
}
