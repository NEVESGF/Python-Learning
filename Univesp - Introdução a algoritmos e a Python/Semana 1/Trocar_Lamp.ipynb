{
 "cells": [
  {
   "attachments": {},
   "cell_type": "markdown",
   "metadata": {},
   "source": [
    "Videoaula 1 - Noções de algoritmos.\n",
    "\n",
    "Durante a videoaula 1 foi proposto um algoritmo referebte a trocar uma lâmpada no teto, o objetivo é realizar o mesmo algoritmo criado em português estruturado na linguagem de programação Python com objetivo de prática e aprendizado."
   ]
  },
  {
   "cell_type": "code",
   "execution_count": 4,
   "metadata": {},
   "outputs": [
    {
     "name": "stdout",
     "output_type": "stream",
     "text": [
      "Acionar o interruptor\n",
      "Sua lâmpada funcionou, não é necessário troca.\n"
     ]
    }
   ],
   "source": [
    "#Início\n",
    "from random import randint\n",
    "b = 0\n",
    "\n",
    "print('Acionar o interruptor')\n",
    "\n",
    "while True:\n",
    "    a = randint(0,1)\n",
    "    if a == 0: #Se a lâmpada não acender\n",
    "        print('''Posicione a escada deibaixo da lâmpada queimada\n",
    "                Suba na escada até que a lâmpada possa ser alcançada''')\n",
    "\n",
    "        print('''Gire a lâmpada queimada no sentido anti-horario até que se solte.\n",
    "                Escolha uma lâmpada da mesma potência da queimada\n",
    "                Posicione a nova lâmpada no soquete\n",
    "                Gire a lâmpara no sentido horário até que ela se firme\n",
    "                Desça da escada.''')\n",
    "        b += 1\n",
    "    else:\n",
    "        break\n",
    "\n",
    "if b >= 1:\n",
    "    print(f'Foram necessárias {b} tentativas até que sua lâmpada funcionasse.')\n",
    "    print('Lampada trocada com sucesso.')\n",
    "else:\n",
    "    print('Sua lâmpada funcionou, não é necessário troca.')\n",
    "\n",
    "#Fim"
   ]
  }
 ],
 "metadata": {
  "kernelspec": {
   "display_name": "Python 3",
   "language": "python",
   "name": "python3"
  },
  "language_info": {
   "codemirror_mode": {
    "name": "ipython",
    "version": 3
   },
   "file_extension": ".py",
   "mimetype": "text/x-python",
   "name": "python",
   "nbconvert_exporter": "python",
   "pygments_lexer": "ipython3",
   "version": "3.10.6"
  },
  "orig_nbformat": 4,
  "vscode": {
   "interpreter": {
    "hash": "916dbcbb3f70747c44a77c7bcd40155683ae19c65e1c03b4aa3499c5328201f1"
   }
  }
 },
 "nbformat": 4,
 "nbformat_minor": 2
}
