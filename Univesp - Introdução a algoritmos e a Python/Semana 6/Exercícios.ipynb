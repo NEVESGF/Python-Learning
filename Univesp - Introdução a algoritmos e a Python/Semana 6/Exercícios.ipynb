{
 "cells": [
  {
   "attachments": {},
   "cell_type": "markdown",
   "metadata": {},
   "source": [
    "Exercício 3.5\n",
    "Implemente um programa que solicite do usuário uma lista de palavras (ou seja, strings) e depois exiba na tela, uma por linha, todas as strings de quatro letras nessa lista.\n",
    ">>>\n",
    "Digite a lista de palavras: ['pare', 'desktop', 'tio', 'pote']\n",
    "pare pote\n",
    " \n",
    "Exercício 3.6\n",
    "Escreva o laço for que exibirá as sequências de números a seguir, um por linha, no shell interativo do Python.\n",
    "(a) Inteiros de 0 a 9 (isto é, 0, 1, 2, 3, 4, 5, 6, 7, 8, 9).\n",
    "(b) Inteiros de 0 a 1 (isto é, 0, 1).\n",
    " \n",
    "Exercício 3.7\n",
    "Escreva um laço for que exiba a seguinte sequência de números, um por linha.\n",
    "(a) Inteiros de 3 até 12, inclusive este.\n",
    "(b) Inteiros de 0 até (mas não incluindo) 9, com um passo de 2 em vez do padrão 1 (isto é, 0, 2, 4, 6, 8).\n",
    "(c) Inteiros de 0 até (mas não incluindo) 24, com um passo de 3.\n",
    "(d) Inteiros de 3 até (mas não incluindo) 12, com um passo de 5.\n",
    " "
   ]
  },
  {
   "cell_type": "code",
   "execution_count": 1,
   "metadata": {},
   "outputs": [
    {
     "name": "stdout",
     "output_type": "stream",
     "text": [
      "pare\n",
      "pote\n"
     ]
    }
   ],
   "source": [
    "\"\"\"\n",
    "Exercício 3.5\n",
    "Implemente um programa que solicite do usuário uma lista de palavras (ou seja, strings) e depois exiba na tela, uma por linha, todas as strings de quatro letras nessa lista.\n",
    ">>>\n",
    "Digite a lista de palavras: ['pare', 'desktop', 'tio', 'pote']\n",
    "pare pote\n",
    "\"\"\"\n",
    "\n",
    "lista = list()\n",
    "\n",
    "while True:\n",
    "    a = str(input(\"Digite uma palavra\"))\n",
    "    if a == \"stop\":\n",
    "        a = \"\"\n",
    "        break\n",
    "    else:\n",
    "        lista.append(a)\n",
    "\n",
    "for l in lista:\n",
    "    #print(l)\n",
    "    if len(l) == 4:\n",
    "        print(l)\n",
    "        \n"
   ]
  }
 ],
 "metadata": {
  "kernelspec": {
   "display_name": "Python 3",
   "language": "python",
   "name": "python3"
  },
  "language_info": {
   "codemirror_mode": {
    "name": "ipython",
    "version": 3
   },
   "file_extension": ".py",
   "mimetype": "text/x-python",
   "name": "python",
   "nbconvert_exporter": "python",
   "pygments_lexer": "ipython3",
   "version": "3.10.4"
  },
  "orig_nbformat": 4
 },
 "nbformat": 4,
 "nbformat_minor": 2
}
