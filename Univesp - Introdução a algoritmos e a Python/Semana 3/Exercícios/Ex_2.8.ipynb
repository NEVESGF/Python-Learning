{
 "cells": [
  {
   "attachments": {},
   "cell_type": "markdown",
   "metadata": {},
   "source": [
    "Exercício 2.8\n",
    "\n",
    "Em que ordem os operadores nas expressões a seguir são avaliados?\n",
    "(a) 2 + 3 == 4 or a >= 5\n",
    "(b) lst[1] * -3 < -10 == 0\n",
    "(c) (lst[1] * -3 < -10) in [0, True]\n",
    "(d) 2 * 3**2\n",
    "(e) 4 / 2 in [1, 2, 3] "
   ]
  },
  {
   "cell_type": "code",
   "execution_count": null,
   "metadata": {},
   "outputs": [],
   "source": []
  }
 ],
 "metadata": {
  "kernelspec": {
   "display_name": "Python 3",
   "language": "python",
   "name": "python3"
  },
  "language_info": {
   "name": "python",
   "version": "3.10.6"
  },
  "orig_nbformat": 4,
  "vscode": {
   "interpreter": {
    "hash": "916dbcbb3f70747c44a77c7bcd40155683ae19c65e1c03b4aa3499c5328201f1"
   }
  }
 },
 "nbformat": 4,
 "nbformat_minor": 2
}
