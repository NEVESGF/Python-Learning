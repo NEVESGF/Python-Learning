{
 "cells": [
  {
   "attachments": {},
   "cell_type": "markdown",
   "metadata": {},
   "source": [
    "Exercício 2.10\n",
    "\n",
    "Escreva expressões Python correspondentes ao seguinte:\n",
    "(a) O comprimento da hipotenusa em um triângulo retângulo cujos dois outros lados têm comprimentos a e b\n",
    "(b) O valor da expressão que avalia se o comprimento da hipotenusa acima é 5\n",
    "(c) A área de um disco com raio a\n",
    "(d) O valor da expressão Booleana que verifica se um ponto com coordenadas x e y está dentro de um círculo com centro ( a, b ) e raio r\n",
    " \n"
   ]
  },
  {
   "cell_type": "code",
   "execution_count": 4,
   "metadata": {},
   "outputs": [
    {
     "name": "stdout",
     "output_type": "stream",
     "text": [
      "O valor do cateto é a = 10\n",
      "O valor do cateto é b = 15\n",
      "O valor da hipotenusa é: 18.03\n"
     ]
    }
   ],
   "source": [
    "# (a) O comprimento da hipotenusa em um triângulo retângulo cujos dois outros lados têm comprimentos a e b\n",
    "\n",
    "import math\n",
    "\n",
    "print('O valor do cateto é a = 10')\n",
    "print('O valor do cateto é b = 15')\n",
    "a = 10\n",
    "b = 15\n",
    "print(f'O valor da hipotenusa é: {math.hypot(a,b):.2f}')"
   ]
  },
  {
   "cell_type": "code",
   "execution_count": 5,
   "metadata": {},
   "outputs": [
    {
     "data": {
      "text/plain": [
       "True"
      ]
     },
     "execution_count": 5,
     "metadata": {},
     "output_type": "execute_result"
    }
   ],
   "source": [
    "# (b) O valor da expressão que avalia se o comprimento da hipotenusa acima é 5\n",
    "\n",
    "import math\n",
    "\n",
    "a = 10\n",
    "b = 15\n",
    "math.hypot(a,b) >= 5"
   ]
  },
  {
   "cell_type": "code",
   "execution_count": null,
   "metadata": {},
   "outputs": [],
   "source": [
    "# (c) A área de um disco com raio a\n"
   ]
  },
  {
   "cell_type": "code",
   "execution_count": null,
   "metadata": {},
   "outputs": [],
   "source": [
    "# (d) O valor da expressão Booleana que verifica se um ponto com coordenadas x e y está dentro de um círculo com centro ( a, b ) e raio r"
   ]
  }
 ],
 "metadata": {
  "kernelspec": {
   "display_name": "Python 3",
   "language": "python",
   "name": "python3"
  },
  "language_info": {
   "codemirror_mode": {
    "name": "ipython",
    "version": 3
   },
   "file_extension": ".py",
   "mimetype": "text/x-python",
   "name": "python",
   "nbconvert_exporter": "python",
   "pygments_lexer": "ipython3",
   "version": "3.10.4"
  },
  "orig_nbformat": 4,
  "vscode": {
   "interpreter": {
    "hash": "3ad933181bd8a04b432d3370b9dc3b0662ad032c4dfaa4e4f1596c548f763858"
   }
  }
 },
 "nbformat": 4,
 "nbformat_minor": 2
}
