{
 "cells": [
  {
   "attachments": {},
   "cell_type": "markdown",
   "metadata": {},
   "source": [
    "Exercício 2.7\n",
    "Dada a lista de notas de trabalho de casa dos alunos\n",
    ">>> notas = [9, 7, 7, 10, 3, 9, 6, 6, 2]\n",
    "escreva:\n",
    "(a) Uma expressão que avalia para o número de 7 notas.\n",
    "(b) Uma instrução que muda a última nota para 4.\n",
    "(c) Uma expressão que avalia para a nota mais alta.\n",
    "(d) Uma instrução que classifica as notas da lista.\n",
    "(e) Uma expressão que avalia para a média das notas. "
   ]
  },
  {
   "cell_type": "code",
   "execution_count": null,
   "metadata": {},
   "outputs": [],
   "source": []
  }
 ],
 "metadata": {
  "kernelspec": {
   "display_name": "Python 3",
   "language": "python",
   "name": "python3"
  },
  "language_info": {
   "name": "python",
   "version": "3.10.6"
  },
  "orig_nbformat": 4,
  "vscode": {
   "interpreter": {
    "hash": "916dbcbb3f70747c44a77c7bcd40155683ae19c65e1c03b4aa3499c5328201f1"
   }
  }
 },
 "nbformat": 4,
 "nbformat_minor": 2
}
