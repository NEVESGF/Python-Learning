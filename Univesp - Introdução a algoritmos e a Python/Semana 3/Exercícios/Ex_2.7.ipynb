{
 "cells": [
  {
   "attachments": {},
   "cell_type": "markdown",
   "metadata": {},
   "source": [
    "Exercício 2.7\n",
    "\n",
    "Dada a lista de notas de trabalho de casa dos alunos\n",
    ">>> notas = [9, 7, 7, 10, 3, 9, 6, 6, 2]\n",
    "escreva:\n",
    "(a) Uma expressão que avalia para o número de 7 notas.\n",
    "(b) Uma instrução que muda a última nota para 4.\n",
    "(c) Uma expressão que avalia para a nota mais alta.\n",
    "(d) Uma instrução que classifica as notas da lista.\n",
    "(e) Uma expressão que avalia para a média das notas. "
   ]
  },
  {
   "cell_type": "code",
   "execution_count": 1,
   "metadata": {},
   "outputs": [
    {
     "name": "stdout",
     "output_type": "stream",
     "text": [
      "As 7 primeiras notas são [9, 7, 7, 10, 3, 9, 6]\n"
     ]
    }
   ],
   "source": [
    "# (a) Uma expressão que avalia para o número de 7 notas\n",
    "\n",
    "notas = [9, 7, 7, 10, 3, 9, 6, 6, 2]\n",
    "print(f'As 7 primeiras notas são {notas[:7]}')\n"
   ]
  },
  {
   "cell_type": "code",
   "execution_count": 5,
   "metadata": {},
   "outputs": [
    {
     "name": "stdout",
     "output_type": "stream",
     "text": [
      "[9, 7, 7, 10, 3, 9, 6, 6, 4]\n"
     ]
    }
   ],
   "source": [
    "# (b) Uma instrução que muda a última nota para 4.\n",
    "\n",
    "notas = [9, 7, 7, 10, 3, 9, 6, 6, 2]\n",
    "\n",
    "notas[len(notas)-1] = 4 #len(notas) -1 visto que a contagem inicia de zero\n",
    "print(notas)"
   ]
  },
  {
   "cell_type": "code",
   "execution_count": 6,
   "metadata": {},
   "outputs": [
    {
     "name": "stdout",
     "output_type": "stream",
     "text": [
      "A nota mais alta entre os alunos foi  10\n"
     ]
    }
   ],
   "source": [
    "# (c) Uma expressão que avalia para a nota mais alta.\n",
    "\n",
    "notas = [9, 7, 7, 10, 3, 9, 6, 6, 2]\n",
    "\n",
    "print(f'A nota mais alta entre os alunos foi  {max(notas)}')"
   ]
  },
  {
   "cell_type": "code",
   "execution_count": 8,
   "metadata": {},
   "outputs": [
    {
     "name": "stdout",
     "output_type": "stream",
     "text": [
      "Classificando as notas da menor para a maior [2, 3, 6, 6, 7, 7, 9, 9, 10]\n",
      "Classificando as notas da maior para a menor [10, 9, 9, 7, 7, 6, 6, 3, 2]\n"
     ]
    }
   ],
   "source": [
    "# (d) Uma instrução que classifica as notas da lista.\n",
    "\n",
    "notas = [9, 7, 7, 10, 3, 9, 6, 6, 2]\n",
    "\n",
    "notas.sort()\n",
    "print(f'Classificando as notas da menor para a maior {notas}')\n",
    "notas.reverse()\n",
    "print(f'Classificando as notas da maior para a menor {notas}')"
   ]
  },
  {
   "cell_type": "code",
   "execution_count": 12,
   "metadata": {},
   "outputs": [
    {
     "name": "stdout",
     "output_type": "stream",
     "text": [
      "A média das notas dos 9 alunos é de 6.56\n"
     ]
    }
   ],
   "source": [
    "# (e) Uma expressão que avalia para a média das notas. \n",
    "\n",
    "notas = [9, 7, 7, 10, 3, 9, 6, 6, 2]\n",
    "soma = 0\n",
    "for media in notas:\n",
    "    soma += media\n",
    "print(f'A média das notas dos {len(notas)} alunos é de {soma/len(notas)}')"
   ]
  }
 ],
 "metadata": {
  "kernelspec": {
   "display_name": "Python 3",
   "language": "python",
   "name": "python3"
  },
  "language_info": {
   "codemirror_mode": {
    "name": "ipython",
    "version": 3
   },
   "file_extension": ".py",
   "mimetype": "text/x-python",
   "name": "python",
   "nbconvert_exporter": "python",
   "pygments_lexer": "ipython3",
   "version": "3.10.6"
  },
  "orig_nbformat": 4,
  "vscode": {
   "interpreter": {
    "hash": "916dbcbb3f70747c44a77c7bcd40155683ae19c65e1c03b4aa3499c5328201f1"
   }
  }
 },
 "nbformat": 4,
 "nbformat_minor": 2
}
