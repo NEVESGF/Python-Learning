{
 "cells": [
  {
   "attachments": {},
   "cell_type": "markdown",
   "metadata": {},
   "source": [
    "Listas, tuplas e operadores \n",
    "\n",
    "Lista: Objetos separados por vírgulas dentro de colchetes [] \n",
    "\n",
    "e.g. pets = ['cão','gato','peixe'] "
   ]
  },
  {
   "cell_type": "code",
   "execution_count": 2,
   "metadata": {},
   "outputs": [
    {
     "name": "stdout",
     "output_type": "stream",
     "text": [
      "cão\n",
      "peixe\n"
     ]
    }
   ],
   "source": [
    "pets = ['cão','gato','peixe'] \n",
    "print(pets[0])\n",
    "print(pets[-1])"
   ]
  },
  {
   "attachments": {},
   "cell_type": "markdown",
   "metadata": {},
   "source": [
    "Listas são mutáveis, é possivel alterar qual a informação em um determinado index."
   ]
  },
  {
   "cell_type": "code",
   "execution_count": 3,
   "metadata": {},
   "outputs": [
    {
     "name": "stdout",
     "output_type": "stream",
     "text": [
      "['jacaré', 'gato', 'peixe']\n"
     ]
    }
   ],
   "source": [
    "pets = ['cão','gato','peixe'] \n",
    "pets[0] = 'jacaré'\n",
    "print(pets)"
   ]
  },
  {
   "attachments": {},
   "cell_type": "markdown",
   "metadata": {},
   "source": [
    "Outros operadores: in, not in, +, *, len(), min(), max() \n",
    "\n",
    "Outros métodos: count(), index(),insert(),pop(),remove(),reverse(),sort() "
   ]
  }
 ],
 "metadata": {
  "kernelspec": {
   "display_name": "Python 3",
   "language": "python",
   "name": "python3"
  },
  "language_info": {
   "codemirror_mode": {
    "name": "ipython",
    "version": 3
   },
   "file_extension": ".py",
   "mimetype": "text/x-python",
   "name": "python",
   "nbconvert_exporter": "python",
   "pygments_lexer": "ipython3",
   "version": "3.10.6"
  },
  "orig_nbformat": 4,
  "vscode": {
   "interpreter": {
    "hash": "916dbcbb3f70747c44a77c7bcd40155683ae19c65e1c03b4aa3499c5328201f1"
   }
  }
 },
 "nbformat": 4,
 "nbformat_minor": 2
}
