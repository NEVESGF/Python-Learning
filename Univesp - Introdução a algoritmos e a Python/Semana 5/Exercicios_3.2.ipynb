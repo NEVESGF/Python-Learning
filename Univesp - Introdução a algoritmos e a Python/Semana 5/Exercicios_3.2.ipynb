{
 "cells": [
  {
   "attachments": {},
   "cell_type": "markdown",
   "metadata": {},
   "source": [
    "\n",
    "Exercício 3.2\n",
    "Traduza estas instruções condicionais em instruções if do Python:\n",
    "(a) Se idade é maior que 62, exiba 'Você pode obter benefícios de pensão'.\n",
    "(b) Se o nome está na lista ['Musial', 'Aaraon', 'Williams', 'Gehrig', 'Ruth'], exiba 'Um dos 5 maiores jogadores de beisebol de todos os tempos!'.\n",
    "(c) Se golpes é maior que 10 e defesas é 0, exiba 'Você está morto…'.\n",
    "(d) Se pelo menos uma das variáveis booleanas norte, sul, leste e oeste for True, exiba 'Posso escapar.'.\n"
   ]
  },
  {
   "cell_type": "code",
   "execution_count": 3,
   "metadata": {},
   "outputs": [
    {
     "name": "stdout",
     "output_type": "stream",
     "text": [
      "Você pode obter o benefício da pensão\n"
     ]
    }
   ],
   "source": [
    "\n",
    "# (a) Se idade é maior que 62, exiba 'Você pode obter benefícios de pensão'.\n",
    "\n",
    "idade =int(input('Digite a sua idade: '))\n",
    "\n",
    "if idade >62:\n",
    "    print('Você pode obter o benefício da pensão')\n",
    "else:\n",
    "    print('Você ainda não pode receber esse benefício')\n"
   ]
  },
  {
   "cell_type": "code",
   "execution_count": 2,
   "metadata": {},
   "outputs": [
    {
     "name": "stdout",
     "output_type": "stream",
     "text": [
      "Um dos 5 maiores jogadores de beisebol de todos os tempos!\n"
     ]
    }
   ],
   "source": [
    "# (b) Se o nome está na lista ['Musial', 'Aaraon', 'Williams', 'Gehrig', 'Ruth'], exiba 'Um dos 5 maiores jogadores de beisebol de todos os tempos!'.\n",
    "\n",
    "lista = ['Musial', 'Aaraon', 'Williams', 'Gehrig', 'Ruth']\n",
    "\n",
    "jogador = input('Digite o nome do seu jogador favorito: ')\n",
    "\n",
    "if jogador in lista:\n",
    "    print('Um dos 5 maiores jogadores de beisebol de todos os tempos!')\n",
    "else:\n",
    "    print('Uma boa escolha')\n",
    "\n"
   ]
  },
  {
   "cell_type": "code",
   "execution_count": 1,
   "metadata": {},
   "outputs": [
    {
     "name": "stdout",
     "output_type": "stream",
     "text": [
      "Você não foi atingido\n",
      "A quantidade de golpes foi 9 e a de defesas 20\n"
     ]
    }
   ],
   "source": [
    "# (c) Se golpes é maior que 10 e defesas é 0, exiba 'Você está morto…'.\n",
    "\n",
    "import random\n",
    "qtd_golpes = random.randint(0,20)\n",
    "qtd_defesas = random.randint(0,20)\n",
    "\n",
    "if qtd_golpes > 10 and qtd_defesas == 0:\n",
    "    print('Você esta morto')\n",
    "elif qtd_golpes > qtd_defesas:\n",
    "    print('Você esta ferido.')\n",
    "elif qtd_golpes < qtd_defesas:\n",
    "    print('Você não foi atingido')\n",
    "else: \n",
    "    print('Empate')\n",
    "print(f'A quantidade de golpes foi {qtd_golpes} e a de defesas {qtd_defesas}')"
   ]
  },
  {
   "cell_type": "code",
   "execution_count": 1,
   "metadata": {},
   "outputs": [
    {
     "name": "stdout",
     "output_type": "stream",
     "text": [
      "Você pode escapar\n"
     ]
    }
   ],
   "source": [
    "# (d) Se pelo menos uma das variáveis booleanas norte, sul, leste e oeste for True, exiba 'Posso escapar.'.\n",
    "\n",
    "norte = True\n",
    "sul = False\n",
    "leste = False\n",
    "oeste = False\n",
    "\n",
    "if norte or sul or leste or oeste == True:\n",
    "    print('Você pode escapar')\n",
    "else:\n",
    "    print('Não existe escapatória')\n"
   ]
  }
 ],
 "metadata": {
  "kernelspec": {
   "display_name": "Python 3",
   "language": "python",
   "name": "python3"
  },
  "language_info": {
   "codemirror_mode": {
    "name": "ipython",
    "version": 3
   },
   "file_extension": ".py",
   "mimetype": "text/x-python",
   "name": "python",
   "nbconvert_exporter": "python",
   "pygments_lexer": "ipython3",
   "version": "3.10.4"
  },
  "orig_nbformat": 4
 },
 "nbformat": 4,
 "nbformat_minor": 2
}
