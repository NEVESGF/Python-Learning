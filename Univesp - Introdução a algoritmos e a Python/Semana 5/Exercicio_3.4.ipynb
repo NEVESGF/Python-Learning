{
 "cells": [
  {
   "attachments": {},
   "cell_type": "markdown",
   "metadata": {},
   "source": [
    "Exercício 3.4\n",
    "Implemente um programa que comece pedindo ao usuário para digitar uma identificação de login (ou seja, uma string). O programa, então, verifica se a identificação informada pelo usuário está na lista ['joe', 'sue', ' hani', 'sophie' ] de usuários válidos. Dependendo do resultado, uma mensagem apropriada deverá ser impressa. Não importando o resultado, sua função deverá exibir 'Fim.' antes de terminar. Aqui está um exemplo de um login bem-sucedido:\n",
    ">>>\n",
    "Login: joe\n",
    "Você entrou!\n",
    "Fim.\n",
    "E aqui está um que não tem sucesso:\n",
    ">>>\n",
    "Login: john\n",
    "Usuário desconhecido.\n",
    "Fim.\n",
    " "
   ]
  },
  {
   "cell_type": "code",
   "execution_count": 3,
   "metadata": {},
   "outputs": [
    {
     "name": "stdout",
     "output_type": "stream",
     "text": [
      "Você entrou!\n",
      "FIM\n"
     ]
    }
   ],
   "source": [
    "lista = ['joe', 'sue', ' hani', 'sophie' ]\n",
    "\n",
    "user = str(input(\"Digite o nome do usuário\\n >\"))\n",
    "\n",
    "if user in lista:\n",
    "    print(\"Você entrou!\")\n",
    "    print(\"FIM\")\n",
    "else:\n",
    "    print(f\"Usuário *{user}* desconhecido.\")\n",
    "    print(\"FIM\")"
   ]
  }
 ],
 "metadata": {
  "kernelspec": {
   "display_name": "Python 3",
   "language": "python",
   "name": "python3"
  },
  "language_info": {
   "codemirror_mode": {
    "name": "ipython",
    "version": 3
   },
   "file_extension": ".py",
   "mimetype": "text/x-python",
   "name": "python",
   "nbconvert_exporter": "python",
   "pygments_lexer": "ipython3",
   "version": "3.10.4"
  },
  "orig_nbformat": 4
 },
 "nbformat": 4,
 "nbformat_minor": 2
}
