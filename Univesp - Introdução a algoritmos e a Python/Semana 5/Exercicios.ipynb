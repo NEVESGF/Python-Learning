{
 "cells": [
  {
   "attachments": {},
   "cell_type": "markdown",
   "metadata": {},
   "source": [
    "Exercício 3.2\n",
    "Traduza estas instruções condicionais em instruções if do Python:\n",
    "(a) Se idade é maior que 62, exiba 'Você pode obter benefícios de pensão'.\n",
    "(b) Se o nome está na lista ['Musial', 'Aaraon', 'Williams', 'Gehrig', 'Ruth'], exiba 'Um dos 5 maiores jogadores de beisebol de todos os tempos!'.\n",
    "(c) Se golpes é maior que 10 e defesas é 0, exiba 'Você está morto…'.\n",
    "(d) Se pelo menos uma das variáveis booleanas norte, sul, leste e oeste for True, exiba 'Posso escapar.'.\n",
    " \n",
    "Exercício 3.3\n",
    "Traduza estas declarações em instruções if/else do Python:\n",
    "(a) Se ano é divisível por 4, exiba 'Pode ser um ano bissexto.'; caso contrário, exiba 'Definitivamente não é um ano bissexto.'\n",
    "(b) Se a lista bilhete é igual à lista loteria, exiba 'Você ganhou!'; se não, exiba 'Melhor sorte da próxima vez…'.\n",
    " \n",
    "Exercício 3.4\n",
    "Implemente um programa que comece pedindo ao usuário para digitar uma identificação de login (ou seja, uma string). O programa, então, verifica se a identificação informada pelo usuário está na lista ['joe', 'sue', ' hani', 'sophie' ] de usuários válidos. Dependendo do resultado, uma mensagem apropriada deverá ser impressa. Não importando o resultado, sua função deverá exibir 'Fim.' antes de terminar. Aqui está um exemplo de um login bem-sucedido:\n",
    ">>>\n",
    "Login: joe\n",
    "Você entrou!\n",
    "Fim.\n",
    "E aqui está um que não tem sucesso:\n",
    ">>>\n",
    "Login: john\n",
    "Usuário desconhecido.\n",
    "Fim.\n",
    " \n",
    "Exercício 5.1\n",
    "Implemente a função meuIMC(), que aceita como entrada a altura de uma pessoa (em metros) e o peso (em quilos) e calcula o Índice de Massa Corporal (IMC) dessa pessoa. A fórmula do IMC é:\n",
    "i m c space equals space fraction numerator p e s o over denominator a l t u r a squared end fraction.\n",
    "Sua função deverá exibir a string 'Abaixo do peso' se o imc < 18.5, 'Normal' se 18,5 <= imc < 25, e 'Sobrepeso' se imc >= 25.\n",
    ">>> meuIMC(86, 1.90)\n",
    "Normal\n",
    ">>> meuIMC(63, 1.90)\n",
    "Abaixo do peso"
   ]
  },
  {
   "cell_type": "code",
   "execution_count": null,
   "metadata": {},
   "outputs": [],
   "source": []
  }
 ],
 "metadata": {
  "language_info": {
   "name": "python"
  },
  "orig_nbformat": 4
 },
 "nbformat": 4,
 "nbformat_minor": 2
}
