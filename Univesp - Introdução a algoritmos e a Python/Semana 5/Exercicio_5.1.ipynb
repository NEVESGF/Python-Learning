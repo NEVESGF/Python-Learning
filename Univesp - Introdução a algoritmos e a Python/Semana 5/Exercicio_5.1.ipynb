{
 "cells": [
  {
   "attachments": {},
   "cell_type": "markdown",
   "metadata": {},
   "source": [
    "Exercício 5.1\n",
    "Implemente a função meuIMC(), que aceita como entrada a altura de uma pessoa (em metros) e o peso (em quilos) e calcula o Índice de Massa Corporal (IMC) dessa pessoa. A fórmula do IMC é:\n",
    "i m c space equals space fraction numerator p e s o over denominator a l t u r a squared end fraction.\n",
    "Sua função deverá exibir a string 'Abaixo do peso' se o imc < 18.5, 'Normal' se 18,5 <= imc < 25, e 'Sobrepeso' se imc >= 25.\n",
    ">>> meuIMC(86, 1.90)\n",
    "Normal\n",
    ">>> meuIMC(63, 1.90)\n",
    "Abaixo do peso"
   ]
  },
  {
   "cell_type": "code",
   "execution_count": null,
   "metadata": {},
   "outputs": [],
   "source": []
  }
 ],
 "metadata": {
  "language_info": {
   "name": "python"
  },
  "orig_nbformat": 4
 },
 "nbformat": 4,
 "nbformat_minor": 2
}
