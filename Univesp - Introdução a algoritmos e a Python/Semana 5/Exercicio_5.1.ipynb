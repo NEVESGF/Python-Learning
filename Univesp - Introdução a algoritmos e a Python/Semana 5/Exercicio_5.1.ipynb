{
 "cells": [
  {
   "attachments": {},
   "cell_type": "markdown",
   "metadata": {},
   "source": [
    "Exercício 5.1\n",
    "Implemente a função meuIMC(), que aceita como entrada a altura de uma pessoa (em metros) e o peso (em quilos) e calcula o Índice de Massa Corporal (IMC) dessa pessoa. A fórmula do IMC é:\n",
    "i m c space equals space fraction numerator p e s o over denominator a l t u r a squared end fraction.\n",
    "Sua função deverá exibir a string 'Abaixo do peso' se o imc < 18.5, 'Normal' se 18,5 <= imc < 25, e 'Sobrepeso' se imc >= 25.\n",
    ">>> meuIMC(86, 1.90)\n",
    "Normal\n",
    ">>> meuIMC(63, 1.90)\n",
    "Abaixo do peso"
   ]
  },
  {
   "cell_type": "code",
   "execution_count": 9,
   "metadata": {},
   "outputs": [
    {
     "name": "stdout",
     "output_type": "stream",
     "text": [
      "IMC de 17.45 é considerado Abaixo do peso.\n",
      "IMC de 23.82 é considerado Normal.\n",
      "IMC de 28.53 é considerado Sobrepeso.\n"
     ]
    }
   ],
   "source": [
    "def IMC(peso,altura):\n",
    "    imc = peso /(altura**2)\n",
    "    if imc < 18.5:\n",
    "        print(f'IMC de {imc:.2f} é considerado Abaixo do peso.')\n",
    "    elif imc >= 18.5 and imc < 25:\n",
    "        print(f'IMC de {imc:.2f} é considerado Normal.')\n",
    "    elif imc >= 25:\n",
    "        print(f'IMC de {imc:.2f} é considerado Sobrepeso.')\n",
    "\n",
    "IMC(63, 1.90)\n",
    "IMC(86,1.90)\n",
    "IMC(103, 1.90)"
   ]
  }
 ],
 "metadata": {
  "kernelspec": {
   "display_name": "Python 3",
   "language": "python",
   "name": "python3"
  },
  "language_info": {
   "codemirror_mode": {
    "name": "ipython",
    "version": 3
   },
   "file_extension": ".py",
   "mimetype": "text/x-python",
   "name": "python",
   "nbconvert_exporter": "python",
   "pygments_lexer": "ipython3",
   "version": "3.10.4"
  },
  "orig_nbformat": 4
 },
 "nbformat": 4,
 "nbformat_minor": 2
}
