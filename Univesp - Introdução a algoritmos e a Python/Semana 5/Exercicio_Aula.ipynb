{
 "cells": [
  {
   "attachments": {},
   "cell_type": "markdown",
   "metadata": {},
   "source": [
    "Faça um programa em Python que leia duas notas N1 e N2 de um aluno, e informe se ele foi aprovado ou não numa disciplina.\n",
    "Considere que a média finaç é dada pela equação:\n",
    "média = 0.4 * N1 + 0.6 * N2\n",
    "E que o aluno esta aprovado se a média for maior ou igual a 5 e reprovado caso contrário"
   ]
  },
  {
   "cell_type": "code",
   "execution_count": null,
   "metadata": {},
   "outputs": [],
   "source": []
  },
  {
   "cell_type": "markdown",
   "metadata": {},
   "source": []
  }
 ],
 "metadata": {
  "language_info": {
   "name": "python"
  },
  "orig_nbformat": 4
 },
 "nbformat": 4,
 "nbformat_minor": 2
}
