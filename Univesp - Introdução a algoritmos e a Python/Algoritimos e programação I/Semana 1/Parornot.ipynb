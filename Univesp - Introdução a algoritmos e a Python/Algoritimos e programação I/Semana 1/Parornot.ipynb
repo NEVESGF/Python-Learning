{
 "cells": [
  {
   "attachments": {},
   "cell_type": "markdown",
   "metadata": {},
   "source": [
    "Durante videoaula 2 o professor apresentou o conceito de fluxogramas, neste caso foi apresentado um fluxograma referente a determinação se um número é par ou não.\n",
    "\n",
    "O objetivo deste cód. é recriar o fluxograma utilizando a linguagem de programação Pỳthon."
   ]
  },
  {
   "cell_type": "code",
   "execution_count": 3,
   "metadata": {},
   "outputs": [
    {
     "name": "stdout",
     "output_type": "stream",
     "text": [
      "O número digitado é PAR\n",
      "O número digitado é IMPAR\n",
      "Fim\n"
     ]
    }
   ],
   "source": [
    "#Início\n",
    "\n",
    "while True:\n",
    "    a = str(input('Quer digitar um número [S/N]?')).strip().upper()[0]\n",
    "    if a in 'Ss':\n",
    "        b = int(input('Digite um número qualquer: '))\n",
    "        if b % 2 ==0:\n",
    "            print('O número digitado é PAR')\n",
    "        else:\n",
    "            print('O número digitado é IMPAR')\n",
    "    elif a in 'Nn':\n",
    "        break\n",
    "    else:\n",
    "        print('Esse digito não é válido, tente novamente \\n')\n",
    "print('Fim')"
   ]
  }
 ],
 "metadata": {
  "kernelspec": {
   "display_name": "Python 3",
   "language": "python",
   "name": "python3"
  },
  "language_info": {
   "codemirror_mode": {
    "name": "ipython",
    "version": 3
   },
   "file_extension": ".py",
   "mimetype": "text/x-python",
   "name": "python",
   "nbconvert_exporter": "python",
   "pygments_lexer": "ipython3",
   "version": "3.10.6"
  },
  "orig_nbformat": 4,
  "vscode": {
   "interpreter": {
    "hash": "916dbcbb3f70747c44a77c7bcd40155683ae19c65e1c03b4aa3499c5328201f1"
   }
  }
 },
 "nbformat": 4,
 "nbformat_minor": 2
}
