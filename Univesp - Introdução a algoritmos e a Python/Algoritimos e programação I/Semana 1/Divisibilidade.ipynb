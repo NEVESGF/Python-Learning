{
 "cells": [
  {
   "attachments": {},
   "cell_type": "markdown",
   "metadata": {},
   "source": [
    "Durante atividade avaliativa da semana, foi demonstrado o fluxograma de um programa que faz a divisão de dois numeros, entretanto antes verifica se o divisor é maior do que zero."
   ]
  },
  {
   "cell_type": "code",
   "execution_count": 1,
   "metadata": {},
   "outputs": [
    {
     "name": "stdout",
     "output_type": "stream",
     "text": [
      "Em uma operação de divisão o divisor deve ser maior que zero.\n",
      "Tente novamente \n",
      "\n",
      "Em uma operação de divisão o divisor deve ser maior que zero.\n",
      "Tente novamente \n",
      "\n",
      "O resultado da divisão entre 2537.0 e 153.0 é 16.58\n"
     ]
    }
   ],
   "source": [
    "#Início\n",
    "\n",
    "a = float(input('Digite o primeiro dividendo: '))\n",
    "\n",
    "while True:\n",
    "    b = float(input('Digite o segundo divisor: '))\n",
    "    if b >0:\n",
    "        break\n",
    "    else:\n",
    "        print('Em uma operação de divisão o divisor deve ser maior que zero.')\n",
    "        print('Tente novamente \\n')\n",
    "R = a / b\n",
    "print(f'O resultado da divisão entre {a} e {b} é {R:.2f}')\n",
    "\n",
    "#Fim"
   ]
  }
 ],
 "metadata": {
  "kernelspec": {
   "display_name": "Python 3",
   "language": "python",
   "name": "python3"
  },
  "language_info": {
   "codemirror_mode": {
    "name": "ipython",
    "version": 3
   },
   "file_extension": ".py",
   "mimetype": "text/x-python",
   "name": "python",
   "nbconvert_exporter": "python",
   "pygments_lexer": "ipython3",
   "version": "3.10.6"
  },
  "orig_nbformat": 4,
  "vscode": {
   "interpreter": {
    "hash": "916dbcbb3f70747c44a77c7bcd40155683ae19c65e1c03b4aa3499c5328201f1"
   }
  }
 },
 "nbformat": 4,
 "nbformat_minor": 2
}
