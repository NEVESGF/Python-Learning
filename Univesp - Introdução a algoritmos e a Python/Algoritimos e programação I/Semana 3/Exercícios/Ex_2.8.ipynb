{
 "cells": [
  {
   "attachments": {},
   "cell_type": "markdown",
   "metadata": {},
   "source": [
    "Exercício 2.8\n",
    "\n",
    "Em que ordem os operadores nas expressões a seguir são avaliados?\n",
    "(a) 2 + 3 == 4 or a >= 5\n",
    "(b) lst[1] * -3 < -10 == 0\n",
    "(c) (lst[1] * -3 < -10) in [0, True]\n",
    "(d) 2 * 3**2\n",
    "(e) 4 / 2 in [1, 2, 3] "
   ]
  },
  {
   "cell_type": "code",
   "execution_count": 2,
   "metadata": {},
   "outputs": [
    {
     "data": {
      "text/plain": [
       "True"
      ]
     },
     "execution_count": 2,
     "metadata": {},
     "output_type": "execute_result"
    }
   ],
   "source": [
    "# (a) 2 + 3 == 4 or a >= 5\n",
    "\n",
    "# Os operadores são avaliados da esquerda para a direita pela ordem de procedência, sendo o valor apresentado na tela como True or False.\n",
    "# O resultado retornará True se uma das avaliativas for verdadeira e falso se ambas forem falsas.\n",
    "\n",
    "a = 5\n",
    "2 + 3 == 4 or a >= 5"
   ]
  },
  {
   "cell_type": "code",
   "execution_count": 3,
   "metadata": {},
   "outputs": [
    {
     "data": {
      "text/plain": [
       "False"
      ]
     },
     "execution_count": 3,
     "metadata": {},
     "output_type": "execute_result"
    }
   ],
   "source": [
    "# (b) lst[1] * -3 < -10 == 0\n",
    "\n",
    "lst = (0,3,5)\n",
    "lst[1] * -3 < -10 == 0\n",
    "\n",
    "#O programa efetua a operação matemática de multiplicação utilizando o segundo valor da lista lst, o resultado, se é menor que 10 e igual a 0\n",
    "#retornando resposta False ou True\n"
   ]
  },
  {
   "cell_type": "code",
   "execution_count": 4,
   "metadata": {},
   "outputs": [
    {
     "data": {
      "text/plain": [
       "True"
      ]
     },
     "execution_count": 4,
     "metadata": {},
     "output_type": "execute_result"
    }
   ],
   "source": [
    "# (c) (lst[1] * -3 < -10) in [0, True]\n",
    "\n",
    "lst = (0,3,5)\n",
    "(lst[1] * -3 < -10) in [0, True]"
   ]
  },
  {
   "cell_type": "code",
   "execution_count": 5,
   "metadata": {},
   "outputs": [
    {
     "data": {
      "text/plain": [
       "18"
      ]
     },
     "execution_count": 5,
     "metadata": {},
     "output_type": "execute_result"
    }
   ],
   "source": [
    "# (d) 2 * 3**2\n",
    "\n",
    "2 * 3**2\n",
    "\n",
    "#Efetua operaçao matemática por ordem de precedência, primeiro a operação do elevado, posteriormente a multiplicação"
   ]
  },
  {
   "cell_type": "code",
   "execution_count": 6,
   "metadata": {},
   "outputs": [
    {
     "data": {
      "text/plain": [
       "True"
      ]
     },
     "execution_count": 6,
     "metadata": {},
     "output_type": "execute_result"
    }
   ],
   "source": [
    "# (e) 4 / 2 in [1, 2, 3] \n",
    "\n",
    "4 / 2 in [1, 2, 3] \n",
    "\n",
    "# Efetua a divisão de 4/2, com o resultado \"2\" verifica se esta entre os valores da lista [1, 2, 3]"
   ]
  }
 ],
 "metadata": {
  "kernelspec": {
   "display_name": "Python 3",
   "language": "python",
   "name": "python3"
  },
  "language_info": {
   "codemirror_mode": {
    "name": "ipython",
    "version": 3
   },
   "file_extension": ".py",
   "mimetype": "text/x-python",
   "name": "python",
   "nbconvert_exporter": "python",
   "pygments_lexer": "ipython3",
   "version": "3.10.4"
  },
  "orig_nbformat": 4,
  "vscode": {
   "interpreter": {
    "hash": "3ad933181bd8a04b432d3370b9dc3b0662ad032c4dfaa4e4f1596c548f763858"
   }
  }
 },
 "nbformat": 4,
 "nbformat_minor": 2
}
