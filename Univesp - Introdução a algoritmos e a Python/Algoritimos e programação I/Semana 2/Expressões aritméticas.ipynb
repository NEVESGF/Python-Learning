{
 "cells": [
  {
   "attachments": {},
   "cell_type": "markdown",
   "metadata": {},
   "source": [
    "Estudo de expressões aritméticas e operadores"
   ]
  },
  {
   "cell_type": "code",
   "execution_count": 2,
   "metadata": {},
   "outputs": [
    {
     "name": "stdout",
     "output_type": "stream",
     "text": [
      "Soma:\n"
     ]
    },
    {
     "data": {
      "text/plain": [
       "10"
      ]
     },
     "execution_count": 2,
     "metadata": {},
     "output_type": "execute_result"
    }
   ],
   "source": [
    "print('Soma:')\n",
    "3 + 7"
   ]
  },
  {
   "cell_type": "code",
   "execution_count": 3,
   "metadata": {},
   "outputs": [
    {
     "name": "stdout",
     "output_type": "stream",
     "text": [
      "Multiplicação\n"
     ]
    },
    {
     "data": {
      "text/plain": [
       "21"
      ]
     },
     "execution_count": 3,
     "metadata": {},
     "output_type": "execute_result"
    }
   ],
   "source": [
    "print('Multiplicação')\n",
    "3 * 7"
   ]
  },
  {
   "cell_type": "code",
   "execution_count": 4,
   "metadata": {},
   "outputs": [
    {
     "name": "stdout",
     "output_type": "stream",
     "text": [
      "Divisão\n"
     ]
    },
    {
     "data": {
      "text/plain": [
       "2.0"
      ]
     },
     "execution_count": 4,
     "metadata": {},
     "output_type": "execute_result"
    }
   ],
   "source": [
    "print('Divisão')\n",
    "\n",
    "5/2.5"
   ]
  },
  {
   "attachments": {},
   "cell_type": "markdown",
   "metadata": {},
   "source": [
    "A Multiplicação tem precedencia sobre a adição. \n",
    "\n",
    "Primeiro resolve a multiplicação e depois efetua a soma, caso seja desejado efetuar diferente precisa utilizar os parênteses"
   ]
  },
  {
   "cell_type": "code",
   "execution_count": 7,
   "metadata": {},
   "outputs": [
    {
     "name": "stdout",
     "output_type": "stream",
     "text": [
      "Sem utilizar parênteses usa a precedência\n",
      "7\n",
      "Utilizando parênteses quebra a precedência\n",
      "10\n",
      "Se todos os números forem da mesma precedência faz da esquerda para a direita\n",
      "0\n"
     ]
    }
   ],
   "source": [
    "print('Sem utilizar parênteses usa a precedência')\n",
    "x = 3 + 2 * 2\n",
    "print(x)\n",
    "\n",
    "print('Utilizando parênteses quebra a precedência')\n",
    "y = (3+2)*2\n",
    "print(y)\n",
    "\n",
    "print('Se todos os números forem da mesma precedência faz da esquerda para a direita')\n",
    "z = 2-3+1\n",
    "print(z)"
   ]
  },
  {
   "cell_type": "code",
   "execution_count": 8,
   "metadata": {},
   "outputs": [
    {
     "name": "stdout",
     "output_type": "stream",
     "text": [
      "Cálculo de média armônica\n"
     ]
    },
    {
     "data": {
      "text/plain": [
       "6.120733571064696"
      ]
     },
     "execution_count": 8,
     "metadata": {},
     "output_type": "execute_result"
    }
   ],
   "source": [
    "print('Cálculo de média armônica')\n",
    "\n",
    "3/((1/3.6)+(1/8.9)+(1/10))"
   ]
  },
  {
   "cell_type": "code",
   "execution_count": 10,
   "metadata": {},
   "outputs": [
    {
     "name": "stdout",
     "output_type": "stream",
     "text": [
      "Exercicio - Calcule a média harmônica dos seguintes números\n",
      "3.6 - 8.9 e 10 Utilize x = 4\n",
      "O resultado do cálculo é igual a 10.69\n"
     ]
    }
   ],
   "source": [
    "print('Exercicio - Calcule a média harmônica dos seguintes números')\n",
    "print('3.6 - 8.9 e 10 Utilize x = 4')\n",
    "\n",
    "z = 3/((1/(3.6+4))+(1/(8.9+4))+(1/(10+4)))\n",
    "\n",
    "print(f'O resultado do cálculo é igual a {z:.2f}')"
   ]
  }
 ],
 "metadata": {
  "kernelspec": {
   "display_name": "Python 3",
   "language": "python",
   "name": "python3"
  },
  "language_info": {
   "codemirror_mode": {
    "name": "ipython",
    "version": 3
   },
   "file_extension": ".py",
   "mimetype": "text/x-python",
   "name": "python",
   "nbconvert_exporter": "python",
   "pygments_lexer": "ipython3",
   "version": "3.10.6"
  },
  "orig_nbformat": 4,
  "vscode": {
   "interpreter": {
    "hash": "916dbcbb3f70747c44a77c7bcd40155683ae19c65e1c03b4aa3499c5328201f1"
   }
  }
 },
 "nbformat": 4,
 "nbformat_minor": 2
}
