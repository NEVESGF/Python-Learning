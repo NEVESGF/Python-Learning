{
 "cells": [
  {
   "attachments": {},
   "cell_type": "markdown",
   "metadata": {},
   "source": [
    "São variaveis que podem armazenar textos ou sequência de caracteres"
   ]
  },
  {
   "cell_type": "code",
   "execution_count": 3,
   "metadata": {},
   "outputs": [
    {
     "name": "stdout",
     "output_type": "stream",
     "text": [
      "Guilherme\n",
      "Guilherme\n"
     ]
    },
    {
     "data": {
      "text/plain": [
       "True"
      ]
     },
     "execution_count": 3,
     "metadata": {},
     "output_type": "execute_result"
    }
   ],
   "source": [
    "nome = \"Guilherme\"\n",
    "nome2 = str('Guilherme')\n",
    "\n",
    "print(nome)\n",
    "print(nome2)\n",
    "\n",
    "nome == nome2"
   ]
  },
  {
   "attachments": {},
   "cell_type": "markdown",
   "metadata": {},
   "source": [
    "Pode-se fazer concatenação utilizando o sinal de +"
   ]
  },
  {
   "cell_type": "code",
   "execution_count": 4,
   "metadata": {},
   "outputs": [
    {
     "name": "stdout",
     "output_type": "stream",
     "text": [
      "GuilhermeGuilherme\n"
     ]
    }
   ],
   "source": [
    "nome = \"Guilherme\"\n",
    "nome2 = str('Guilherme')\n",
    "\n",
    "print(nome+nome2)"
   ]
  },
  {
   "attachments": {},
   "cell_type": "markdown",
   "metadata": {},
   "source": [
    "Se utilizar o * você multiplica a string"
   ]
  },
  {
   "cell_type": "code",
   "execution_count": 5,
   "metadata": {},
   "outputs": [
    {
     "name": "stdout",
     "output_type": "stream",
     "text": [
      "GuilhermeGuilherme\n"
     ]
    }
   ],
   "source": [
    "nome = \"Guilherme\"\n",
    "\n",
    "print(nome*2)"
   ]
  },
  {
   "attachments": {},
   "cell_type": "markdown",
   "metadata": {},
   "source": [
    "Se esta contido"
   ]
  },
  {
   "cell_type": "code",
   "execution_count": 10,
   "metadata": {},
   "outputs": [
    {
     "name": "stdout",
     "output_type": "stream",
     "text": [
      "True\n",
      "9\n",
      "G\n",
      "Gui\n",
      "lherme\n"
     ]
    }
   ],
   "source": [
    "nome = \"Guilherme\"\n",
    "\n",
    "print('G' in nome)\n",
    "print(len(nome)) #quantidade de caracteres em uma string\n",
    "print(nome[0]) #Retorna o caractere na referida posição da string\n",
    "print(nome[:3]) #retorna do começo até o valor definido\n",
    "print(nome[3:])"
   ]
  }
 ],
 "metadata": {
  "kernelspec": {
   "display_name": "Python 3",
   "language": "python",
   "name": "python3"
  },
  "language_info": {
   "codemirror_mode": {
    "name": "ipython",
    "version": 3
   },
   "file_extension": ".py",
   "mimetype": "text/x-python",
   "name": "python",
   "nbconvert_exporter": "python",
   "pygments_lexer": "ipython3",
   "version": "3.10.6"
  },
  "orig_nbformat": 4,
  "vscode": {
   "interpreter": {
    "hash": "916dbcbb3f70747c44a77c7bcd40155683ae19c65e1c03b4aa3499c5328201f1"
   }
  }
 },
 "nbformat": 4,
 "nbformat_minor": 2
}
