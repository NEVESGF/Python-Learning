{
 "cells": [
  {
   "attachments": {},
   "cell_type": "markdown",
   "metadata": {},
   "source": [
    "Variável é um nome que é atribuido a um objeto (um número por exemplo) \n",
    "\n",
    "X = 3 \n",
    "X (é a minha variável que é igual a 3) \n",
    "\n",
    "Operador de atribuição é o =  "
   ]
  },
  {
   "cell_type": "code",
   "execution_count": 3,
   "metadata": {},
   "outputs": [
    {
     "name": "stdout",
     "output_type": "stream",
     "text": [
      "12\n",
      "4\n"
     ]
    }
   ],
   "source": [
    "x = 3 + 3\n",
    "print(2 * x)\n",
    "\n",
    "#A variável pode efetuar a atribuição de somas e demais funções.\n",
    "\n",
    "y = x - 2\n",
    "print(y)"
   ]
  },
  {
   "attachments": {},
   "cell_type": "markdown",
   "metadata": {},
   "source": [
    "Os nomes das variáveis podem conter nomes minúsculos, maiúsculos, _ e dígitos de 0 a 9 exceto o primeiro caractere. (EXISTE DIFERENCIAÇÃO DE CARACTERES MAIUSCULOS E MINUSCULOS) \n",
    "\n",
    "- usar nomes significativos ao invés de utilizar apenas uma letra\n",
    "- nomes com mais de uma palavra, separar por _ ou letra maiuscula na inicial da segunda palavra\n",
    "- nomes mais curtos são melhores que nomes mais longos"
   ]
  },
  {
   "cell_type": "code",
   "execution_count": 4,
   "metadata": {},
   "outputs": [
    {
     "name": "stdout",
     "output_type": "stream",
     "text": [
      "A altura é 1.8, do sexo M, com idade de 23\n"
     ]
    }
   ],
   "source": [
    "altura = 1.80\n",
    "sexo = \"M\"\n",
    "idade = 23\n",
    "\n",
    "print(f'A altura é {altura}, do sexo {sexo}, com idade de {idade}')"
   ]
  }
 ],
 "metadata": {
  "kernelspec": {
   "display_name": "Python 3",
   "language": "python",
   "name": "python3"
  },
  "language_info": {
   "codemirror_mode": {
    "name": "ipython",
    "version": 3
   },
   "file_extension": ".py",
   "mimetype": "text/x-python",
   "name": "python",
   "nbconvert_exporter": "python",
   "pygments_lexer": "ipython3",
   "version": "3.10.6"
  },
  "orig_nbformat": 4,
  "vscode": {
   "interpreter": {
    "hash": "916dbcbb3f70747c44a77c7bcd40155683ae19c65e1c03b4aa3499c5328201f1"
   }
  }
 },
 "nbformat": 4,
 "nbformat_minor": 2
}
