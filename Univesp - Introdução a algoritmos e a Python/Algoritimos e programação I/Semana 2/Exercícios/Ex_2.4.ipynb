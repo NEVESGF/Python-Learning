{
 "cells": [
  {
   "attachments": {},
   "cell_type": "markdown",
   "metadata": {},
   "source": [
    "Comece executando as instruções de atribuição:\n",
    ">>> s1 = 'ant'\n",
    ">>> s2 = 'bat'\n",
    ">>> s3 = 'cod'\n",
    "Escreva expressões Python usando s1, s2 e s3 e os operadores + e * a fim de avaliar para:\n",
    "(a) 'ant bat cod'\n",
    "(b) ant ant ant ant ant ant ant ant ant ant'\n",
    "(c) 'ant bat bat cod cod cod'\n",
    "(d) 'ant bat ant bat ant bat ant bat ant bat ant bat ant bat'\n",
    "(e) 'batbatcod batbatcod batbatcod batbatcod batbatcod' "
   ]
  },
  {
   "cell_type": "code",
   "execution_count": 3,
   "metadata": {},
   "outputs": [
    {
     "name": "stdout",
     "output_type": "stream",
     "text": [
      "ant bat cod\n"
     ]
    }
   ],
   "source": [
    "# (a) 'ant bat cod'\n",
    "\n",
    "s1 = 'ant'\n",
    "s2 = 'bat'\n",
    "s3 = 'cod'\n",
    "\n",
    "print(s1 +' '+ s2 +' '+ s3)"
   ]
  },
  {
   "cell_type": "code",
   "execution_count": 6,
   "metadata": {},
   "outputs": [
    {
     "name": "stdout",
     "output_type": "stream",
     "text": [
      "ant ant ant ant ant ant ant ant ant ant  "
     ]
    }
   ],
   "source": [
    "# (b) ant ant ant ant ant ant ant ant ant ant'\n",
    "\n",
    "s1 = 'ant'\n",
    "s2 = 'bat'\n",
    "s3 = 'cod'\n",
    "\n",
    "print((s1+' ')*10,end=' ')"
   ]
  },
  {
   "cell_type": "code",
   "execution_count": 8,
   "metadata": {},
   "outputs": [
    {
     "name": "stdout",
     "output_type": "stream",
     "text": [
      "ant bat bat cod cod cod \n"
     ]
    }
   ],
   "source": [
    "# (c) 'ant bat bat cod cod cod'\n",
    "\n",
    "s1 = 'ant'\n",
    "s2 = 'bat'\n",
    "s3 = 'cod'\n",
    "\n",
    "print(s1 + ' ' + (s2+' ')*2 + (s3 + ' ')*3 )"
   ]
  },
  {
   "cell_type": "code",
   "execution_count": 10,
   "metadata": {},
   "outputs": [
    {
     "name": "stdout",
     "output_type": "stream",
     "text": [
      "ant bat ant bat ant bat ant bat ant bat ant bat ant bat \n"
     ]
    }
   ],
   "source": [
    "# (d) 'ant bat ant bat ant bat ant bat ant bat ant bat ant bat'\n",
    "\n",
    "s1 = 'ant'\n",
    "s2 = 'bat'\n",
    "s3 = 'cod'\n",
    "\n",
    "print((s1 + ' ' + s2 + ' ')*7)"
   ]
  },
  {
   "cell_type": "code",
   "execution_count": 11,
   "metadata": {},
   "outputs": [
    {
     "name": "stdout",
     "output_type": "stream",
     "text": [
      "batbatcod batbatcod batbatcod batbatcod batbatcod \n"
     ]
    }
   ],
   "source": [
    "# (e) 'batbatcod batbatcod batbatcod batbatcod batbatcod' \n",
    "\n",
    "s1 = 'ant'\n",
    "s2 = 'bat'\n",
    "s3 = 'cod'\n",
    "\n",
    "print((s2*2+s3+' ')*5)"
   ]
  }
 ],
 "metadata": {
  "kernelspec": {
   "display_name": "Python 3",
   "language": "python",
   "name": "python3"
  },
  "language_info": {
   "codemirror_mode": {
    "name": "ipython",
    "version": 3
   },
   "file_extension": ".py",
   "mimetype": "text/x-python",
   "name": "python",
   "nbconvert_exporter": "python",
   "pygments_lexer": "ipython3",
   "version": "3.10.4"
  },
  "orig_nbformat": 4,
  "vscode": {
   "interpreter": {
    "hash": "3ad933181bd8a04b432d3370b9dc3b0662ad032c4dfaa4e4f1596c548f763858"
   }
  }
 },
 "nbformat": 4,
 "nbformat_minor": 2
}
