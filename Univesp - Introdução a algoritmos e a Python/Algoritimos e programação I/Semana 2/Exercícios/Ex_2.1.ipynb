{
 "cells": [
  {
   "attachments": {},
   "cell_type": "markdown",
   "metadata": {},
   "source": [
    " Escreva expressões algébricas Python correspondentes aos seguintes comandos:\n",
    "(a) A soma dos 5 primeiros inteiros positivos.\n",
    "(b) A idade média de Sara (idade 23), Mark (idade 19) e Fátima (idade 31).\n",
    "(c) O número de vezes que 73 cabe em 403.\n",
    "(d) O resto de quando 403 é dividido por 73.\n",
    "(e) 2 à 10ª potência.\n",
    "(f) O valor absoluto da distância entre a altura de Sara (54 polegadas) e a altura de Mark (57 polegadas).\n",
    "(g) O menor preço entre os seguintes preços: R$ 34,99, R$ 29,95 e R$ 31,50. "
   ]
  },
  {
   "cell_type": "code",
   "execution_count": 1,
   "metadata": {},
   "outputs": [
    {
     "name": "stdout",
     "output_type": "stream",
     "text": [
      "15\n"
     ]
    }
   ],
   "source": [
    "# (a) A soma dos 5 primeiros inteiros positivos.\n",
    "\n",
    "soma=0\n",
    "for i in range(0,6):\n",
    "    soma += i\n",
    "print(soma)"
   ]
  },
  {
   "cell_type": "code",
   "execution_count": 3,
   "metadata": {},
   "outputs": [
    {
     "name": "stdout",
     "output_type": "stream",
     "text": [
      "A média das idades é de 24.33\n"
     ]
    }
   ],
   "source": [
    "#(b) A idade média de Sara (idade 23), Mark (idade 19) e Fátima (idade 31).\n",
    "\n",
    "Sara = 23\n",
    "Mark = 19\n",
    "Fátima = 31\n",
    "\n",
    "media = ( Sara + Mark + Fátima ) / 3\n",
    "print(f'A média das idades é de {media:.2f}')"
   ]
  },
  {
   "cell_type": "code",
   "execution_count": 6,
   "metadata": {},
   "outputs": [
    {
     "name": "stdout",
     "output_type": "stream",
     "text": [
      "O número de vezes que 73 cabe em 403 é de 5 vezes.\n"
     ]
    }
   ],
   "source": [
    "#(c) O número de vezes que 73 cabe em 403.\n",
    "\n",
    "print(f'O número de vezes que 73 cabe em 403 é de {403//73} vezes.')"
   ]
  },
  {
   "cell_type": "code",
   "execution_count": 7,
   "metadata": {},
   "outputs": [
    {
     "name": "stdout",
     "output_type": "stream",
     "text": [
      "O resto da divisão de 403 / 73 é de 38\n"
     ]
    }
   ],
   "source": [
    "#(d) O resto de quando 403 é dividido por 73.\n",
    "\n",
    "print(f'O resto da divisão de 403 / 73 é de {403%73}')"
   ]
  },
  {
   "cell_type": "code",
   "execution_count": 8,
   "metadata": {},
   "outputs": [
    {
     "name": "stdout",
     "output_type": "stream",
     "text": [
      "2 elevado a 10º potência é igual a 1024\n"
     ]
    }
   ],
   "source": [
    "# (e) 2 à 10ª potência.\n",
    "\n",
    "print(f'2 elevado a 10º potência é igual a {2**10}')"
   ]
  },
  {
   "cell_type": "code",
   "execution_count": 9,
   "metadata": {},
   "outputs": [
    {
     "name": "stdout",
     "output_type": "stream",
     "text": [
      "O valor absoluto entre a diferênça das alturas é de 3\n"
     ]
    }
   ],
   "source": [
    "# (f) O valor absoluto da distância entre a altura de Sara (54 polegadas) e a altura de Mark (57 polegadas).\n",
    "\n",
    "print(f'O valor absoluto entre a diferênça das alturas é de {abs(54-57)}')"
   ]
  },
  {
   "cell_type": "code",
   "execution_count": 11,
   "metadata": {},
   "outputs": [
    {
     "name": "stdout",
     "output_type": "stream",
     "text": [
      "O menor valor entre os listados é de R$29.95\n"
     ]
    }
   ],
   "source": [
    "# (g) O menor preço entre os seguintes preços: R$ 34,99, R$ 29,95 e R$ 31,50. \n",
    "\n",
    "preco = (34.99,29.95,31.50)\n",
    "\n",
    "print(f'O menor valor entre os listados é de R${min(preco)}')"
   ]
  }
 ],
 "metadata": {
  "kernelspec": {
   "display_name": "Python 3",
   "language": "python",
   "name": "python3"
  },
  "language_info": {
   "codemirror_mode": {
    "name": "ipython",
    "version": 3
   },
   "file_extension": ".py",
   "mimetype": "text/x-python",
   "name": "python",
   "nbconvert_exporter": "python",
   "pygments_lexer": "ipython3",
   "version": "3.10.4"
  },
  "orig_nbformat": 4,
  "vscode": {
   "interpreter": {
    "hash": "3ad933181bd8a04b432d3370b9dc3b0662ad032c4dfaa4e4f1596c548f763858"
   }
  }
 },
 "nbformat": 4,
 "nbformat_minor": 2
}
