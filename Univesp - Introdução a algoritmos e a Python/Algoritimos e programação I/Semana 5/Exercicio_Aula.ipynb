{
 "cells": [
  {
   "attachments": {},
   "cell_type": "markdown",
   "metadata": {},
   "source": [
    "Faça um programa em Python que leia duas notas N1 e N2 de um aluno, e informe se ele foi aprovado ou não numa disciplina.\n",
    "Considere que a média finaç é dada pela equação:\n",
    "média = 0.4 * N1 + 0.6 * N2\n",
    "E que o aluno esta aprovado se a média for maior ou igual a 5 e reprovado caso contrário"
   ]
  },
  {
   "cell_type": "code",
   "execution_count": 3,
   "metadata": {},
   "outputs": [
    {
     "name": "stdout",
     "output_type": "stream",
     "text": [
      "A média do aluno foi 7.5 e ele esta APROVADO\n"
     ]
    }
   ],
   "source": [
    "N1 = float(input('Digite a nota N1'))\n",
    "N2 = float(input('Digite a nota N2'))\n",
    "\n",
    "media = (0.4 * N1) + (0.6*N2)\n",
    "\n",
    "if media >= 5:\n",
    "    print(f'A média do aluno foi {media} e ele esta APROVADO')\n",
    "else:\n",
    "    print(f'A média do aluno foi {media} e ele esta REPROVADO')"
   ]
  },
  {
   "cell_type": "markdown",
   "metadata": {},
   "source": []
  }
 ],
 "metadata": {
  "kernelspec": {
   "display_name": "Python 3",
   "language": "python",
   "name": "python3"
  },
  "language_info": {
   "codemirror_mode": {
    "name": "ipython",
    "version": 3
   },
   "file_extension": ".py",
   "mimetype": "text/x-python",
   "name": "python",
   "nbconvert_exporter": "python",
   "pygments_lexer": "ipython3",
   "version": "3.10.4"
  },
  "orig_nbformat": 4
 },
 "nbformat": 4,
 "nbformat_minor": 2
}
