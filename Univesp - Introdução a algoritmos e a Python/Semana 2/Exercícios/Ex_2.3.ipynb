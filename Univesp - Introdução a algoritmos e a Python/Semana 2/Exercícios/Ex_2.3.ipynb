{
 "cells": [
  {
   "attachments": {},
   "cell_type": "markdown",
   "metadata": {},
   "source": [
    " Escreva instruções Python que correspondem às ações a seguir e execute-as:\n",
    "(a) Atribua o valor inteiro 3 à variável a.\n",
    "(b) Atribua 4 à variável b.\n",
    "(c) Atribua à variável c o valor da expressão a * a + b * b. "
   ]
  },
  {
   "cell_type": "code",
   "execution_count": null,
   "metadata": {},
   "outputs": [],
   "source": []
  }
 ],
 "metadata": {
  "language_info": {
   "name": "python"
  },
  "orig_nbformat": 4
 },
 "nbformat": 4,
 "nbformat_minor": 2
}
