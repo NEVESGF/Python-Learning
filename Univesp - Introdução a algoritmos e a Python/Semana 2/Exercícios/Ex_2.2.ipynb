{
 "cells": [
  {
   "attachments": {},
   "cell_type": "markdown",
   "metadata": {},
   "source": [
    " Traduza os comandos a seguir para expressões Booleanas em Python e avalie-as:\n",
    "(a) A soma de 2 e 2 é menor que 4.\n",
    "(b) O valor de 7 // 3 é igual a 1 + 1.\n",
    "(c) A soma de 3 ao quadrado e 4 ao quadrado é igual a 25.\n",
    "(d) A soma de 2, 4 e 6 é maior que 12.\n",
    "(e) 1387 é divisível por 19.\n",
    "(f) 31 é par. (Dica: o que o resto lhe diz quando você divide por 2?)\n",
    "(g) O preço mais baixo dentre R$ 34,99, R$ 29,95 e R$ 31,50 é menor que R$ 30,00.* "
   ]
  },
  {
   "cell_type": "code",
   "execution_count": null,
   "metadata": {},
   "outputs": [],
   "source": []
  }
 ],
 "metadata": {
  "language_info": {
   "name": "python"
  },
  "orig_nbformat": 4
 },
 "nbformat": 4,
 "nbformat_minor": 2
}
