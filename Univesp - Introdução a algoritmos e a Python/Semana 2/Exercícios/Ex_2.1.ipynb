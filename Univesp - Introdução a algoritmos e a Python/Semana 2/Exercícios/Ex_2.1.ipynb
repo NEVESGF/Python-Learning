{
 "cells": [
  {
   "attachments": {},
   "cell_type": "markdown",
   "metadata": {},
   "source": [
    " Escreva expressões algébricas Python correspondentes aos seguintes comandos:\n",
    "(a) A soma dos 5 primeiros inteiros positivos.\n",
    "(b) A idade média de Sara (idade 23), Mark (idade 19) e Fátima (idade 31).\n",
    "(c) O número de vezes que 73 cabe em 403.\n",
    "(d) O resto de quando 403 é dividido por 73.\n",
    "(e) 2 à 10ª potência.\n",
    "(f) O valor absoluto da distância entre a altura de Sara (54 polegadas) e a altura de Mark (57 polegadas).\n",
    "(g) O menor preço entre os seguintes preços: R$ 34,99, R$ 29,95 e R$ 31,50. "
   ]
  },
  {
   "cell_type": "code",
   "execution_count": null,
   "metadata": {},
   "outputs": [],
   "source": []
  }
 ],
 "metadata": {
  "language_info": {
   "name": "python"
  },
  "orig_nbformat": 4
 },
 "nbformat": 4,
 "nbformat_minor": 2
}
