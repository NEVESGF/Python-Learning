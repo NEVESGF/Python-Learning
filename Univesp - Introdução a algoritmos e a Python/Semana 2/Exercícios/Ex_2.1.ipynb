{
 "cells": [
  {
   "attachments": {},
   "cell_type": "markdown",
   "metadata": {},
   "source": [
    " Escreva expressões algébricas Python correspondentes aos seguintes comandos:\n",
    "(a) A soma dos 5 primeiros inteiros positivos.\n",
    "(b) A idade média de Sara (idade 23), Mark (idade 19) e Fátima (idade 31).\n",
    "(c) O número de vezes que 73 cabe em 403.\n",
    "(d) O resto de quando 403 é dividido por 73.\n",
    "(e) 2 à 10ª potência.\n",
    "(f) O valor absoluto da distância entre a altura de Sara (54 polegadas) e a altura de Mark (57 polegadas).\n",
    "(g) O menor preço entre os seguintes preços: R$ 34,99, R$ 29,95 e R$ 31,50. "
   ]
  },
  {
   "cell_type": "code",
   "execution_count": null,
   "metadata": {},
   "outputs": [],
   "source": []
  }
 ],
 "metadata": {
  "kernelspec": {
   "display_name": "Python 3",
   "language": "python",
   "name": "python3"
  },
  "language_info": {
   "name": "python",
   "version": "3.10.6"
  },
  "orig_nbformat": 4,
  "vscode": {
   "interpreter": {
    "hash": "916dbcbb3f70747c44a77c7bcd40155683ae19c65e1c03b4aa3499c5328201f1"
   }
  }
 },
 "nbformat": 4,
 "nbformat_minor": 2
}
