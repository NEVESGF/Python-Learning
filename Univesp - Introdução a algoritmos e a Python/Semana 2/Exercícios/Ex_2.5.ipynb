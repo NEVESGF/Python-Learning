{
 "cells": [
  {
   "attachments": {},
   "cell_type": "markdown",
   "metadata": {},
   "source": [
    " Comece executando a atribuição:\n",
    "s = '0123456789'\n",
    "Agora, escreva expressões usando a string s e o operador de indexação que é avaliado como:\n",
    "(a) '0'\n",
    "(b) '1'\n",
    "(c) '6'\n",
    "(d) '8'\n",
    "(e) '9' "
   ]
  },
  {
   "cell_type": "code",
   "execution_count": null,
   "metadata": {},
   "outputs": [],
   "source": []
  }
 ],
 "metadata": {
  "language_info": {
   "name": "python"
  },
  "orig_nbformat": 4
 },
 "nbformat": 4,
 "nbformat_minor": 2
}
