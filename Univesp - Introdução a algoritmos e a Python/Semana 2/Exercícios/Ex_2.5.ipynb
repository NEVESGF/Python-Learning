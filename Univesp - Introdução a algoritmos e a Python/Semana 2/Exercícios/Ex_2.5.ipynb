{
 "cells": [
  {
   "attachments": {},
   "cell_type": "markdown",
   "metadata": {},
   "source": [
    " Comece executando a atribuição:\n",
    "s = '0123456789'\n",
    "Agora, escreva expressões usando a string s e o operador de indexação que é avaliado como:\n",
    "(a) '0'\n",
    "(b) '1'\n",
    "(c) '6'\n",
    "(d) '8'\n",
    "(e) '9' "
   ]
  },
  {
   "cell_type": "code",
   "execution_count": 2,
   "metadata": {},
   "outputs": [
    {
     "name": "stdout",
     "output_type": "stream",
     "text": [
      "0\n",
      "1\n",
      "6\n",
      "8\n",
      "9\n"
     ]
    }
   ],
   "source": [
    "s = '0123456789'\n",
    "\n",
    "print(s[0])\n",
    "print(s[1])\n",
    "print(s[-4])\n",
    "print(s[-2])\n",
    "print(s[-1])"
   ]
  }
 ],
 "metadata": {
  "kernelspec": {
   "display_name": "Python 3",
   "language": "python",
   "name": "python3"
  },
  "language_info": {
   "codemirror_mode": {
    "name": "ipython",
    "version": 3
   },
   "file_extension": ".py",
   "mimetype": "text/x-python",
   "name": "python",
   "nbconvert_exporter": "python",
   "pygments_lexer": "ipython3",
   "version": "3.10.4"
  },
  "orig_nbformat": 4,
  "vscode": {
   "interpreter": {
    "hash": "3ad933181bd8a04b432d3370b9dc3b0662ad032c4dfaa4e4f1596c548f763858"
   }
  }
 },
 "nbformat": 4,
 "nbformat_minor": 2
}
