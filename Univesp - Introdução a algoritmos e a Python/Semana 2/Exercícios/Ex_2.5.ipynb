{
 "cells": [
  {
   "attachments": {},
   "cell_type": "markdown",
   "metadata": {},
   "source": [
    " Comece executando a atribuição:\n",
    "s = '0123456789'\n",
    "Agora, escreva expressões usando a string s e o operador de indexação que é avaliado como:\n",
    "(a) '0'\n",
    "(b) '1'\n",
    "(c) '6'\n",
    "(d) '8'\n",
    "(e) '9' "
   ]
  },
  {
   "cell_type": "code",
   "execution_count": null,
   "metadata": {},
   "outputs": [],
   "source": []
  }
 ],
 "metadata": {
  "kernelspec": {
   "display_name": "Python 3",
   "language": "python",
   "name": "python3"
  },
  "language_info": {
   "name": "python",
   "version": "3.10.6"
  },
  "orig_nbformat": 4,
  "vscode": {
   "interpreter": {
    "hash": "916dbcbb3f70747c44a77c7bcd40155683ae19c65e1c03b4aa3499c5328201f1"
   }
  }
 },
 "nbformat": 4,
 "nbformat_minor": 2
}
