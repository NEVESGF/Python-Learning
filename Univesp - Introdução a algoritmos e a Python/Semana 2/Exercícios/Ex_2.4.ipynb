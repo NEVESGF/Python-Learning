{
 "cells": [
  {
   "attachments": {},
   "cell_type": "markdown",
   "metadata": {},
   "source": [
    " Comece executando as instruções de atribuição:\n",
    ">>> s1 = 'ant'\n",
    ">>> s2 = 'bat'\n",
    ">>> s3 = 'cod'\n",
    "Escreva expressões Python usando s1, s2 e s3 e os operadores + e * a fim de avaliar para:\n",
    "(a) 'ant bat cod'\n",
    "(b) ant ant ant ant ant ant ant ant ant ant'\n",
    "(c) 'ant bat bat cod cod cod'\n",
    "(d) 'ant bat ant bat ant bat ant bat ant bat ant bat ant bat'\n",
    "(e) 'batbatcod batbatcod batbatcod batbatcod batbatcod' "
   ]
  },
  {
   "cell_type": "code",
   "execution_count": null,
   "metadata": {},
   "outputs": [],
   "source": []
  }
 ],
 "metadata": {
  "language_info": {
   "name": "python"
  },
  "orig_nbformat": 4
 },
 "nbformat": 4,
 "nbformat_minor": 2
}
