{
 "cells": [
  {
   "attachments": {},
   "cell_type": "markdown",
   "metadata": {},
   "source": [
    "\n",
    "Introdução a Computação Usando Python - Ljubomir Perkovic\n",
    "Fazer exercícios práticos: 3.14 (página 82), 3.15 (página 84) do Capítulo 3.\n",
    "As soluções destes exercícios você pode encontrar neste link.\n",
    " \n",
    "Fazer exercícios práticos: 4.8 (página 117), 4.9 (página 117) e 4.10 (página 119) do Capítulo 4.\n",
    "As soluções desses exercícios você pode encontrar neste link.\n"
   ]
  },
  {
   "cell_type": "code",
   "execution_count": null,
   "metadata": {},
   "outputs": [],
   "source": []
  }
 ],
 "metadata": {
  "language_info": {
   "name": "python"
  },
  "orig_nbformat": 4
 },
 "nbformat": 4,
 "nbformat_minor": 2
}
