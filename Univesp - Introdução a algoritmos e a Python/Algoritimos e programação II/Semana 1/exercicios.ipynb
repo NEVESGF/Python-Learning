{
 "cells": [
  {
   "attachments": {},
   "cell_type": "markdown",
   "metadata": {},
   "source": [
    "\n",
    "Introdução a Computação Usando Python - Ljubomir Perkovic\n",
    "Fazer exercícios práticos: 3.14 (página 82), 3.15 (página 84) do Capítulo 3.\n",
    "As soluções destes exercícios você pode encontrar neste link.\n",
    " \n",
    "Fazer exercícios práticos: 4.8 (página 117), 4.9 (página 117) e 4.10 (página 119) do Capítulo 4.\n",
    "As soluções desses exercícios você pode encontrar neste link.\n"
   ]
  },
  {
   "attachments": {},
   "cell_type": "markdown",
   "metadata": {},
   "source": [
    "Problema Prático 3.14\n",
    "\n",
    "Implemente a função trocaPU(), que aceita uma lista como entrada e troca o primeiro e último elementos da lista. Você pode considerar que a lista não estará vazia. A função não deverá retornar nada.\n",
    "\n",
    ">>> ingredientes = ['farinha', 'açúcar', 'manteiga', 'maçãs']\n",
    "\n",
    ">>> trocaPU(ingredientes)\n",
    "\n",
    ">>> ingredientes\n",
    "\n",
    "['maçãs', 'açúcar', 'manteiga', 'farinha']"
   ]
  },
  {
   "attachments": {},
   "cell_type": "markdown",
   "metadata": {},
   "source": [
    "Implemente a função olimpíadas(t), que faz com que a tartaruga t desenhe os anéis olímpicos mostrados a seguir. Use a função jump() do módulo ch3. Você conseguirá obter a imagem desenhada executando:\n",
    "\n",
    ">>> import turtle\n",
    "\n",
    ">>> s = turtle.Screen()\n",
    "\n",
    ">>> t = turtle.Turtle()\n",
    "\n",
    ">>> olimpíadas(t)"
   ]
  },
  {
   "attachments": {},
   "cell_type": "markdown",
   "metadata": {},
   "source": [
    "Problema Prático 4.8\n",
    "\n",
    "Escreva a função palavras() que aceita um argumento de entrada — um nome de arquivo — e retorna a lista de palavras reais (sem símbolos de pontuação !,.:;?) no arquivo.\n",
    "\n",
    ">>> palavras('example.txt')\n",
    "\n",
    "['The', '3', 'lines', 'in', 'this', 'file', 'end', 'with',\n",
    "\n",
    " 'the', 'new', 'line', 'character', 'There', 'is', 'a',\n",
    "\n",
    " 'blank', 'line', 'above', 'this', 'line']"
   ]
  },
  {
   "attachments": {},
   "cell_type": "markdown",
   "metadata": {},
   "source": [
    "Problema Prático 4.9\n",
    "\n",
    "Implemente a função meuGrep(), que toma como entrada duas strings, um nome de arquivo e uma string alvo, e exibe cada linha do arquivo que contém a string alvo como uma substring.\n",
    "\n",
    ">>> meuGrep('example.txt', 'line')\n",
    "\n",
    "The 3 lines in this file end with the new line character.\n",
    "\n",
    "There is a blank line above this line."
   ]
  },
  {
   "attachments": {},
   "cell_type": "markdown",
   "metadata": {},
   "source": [
    "Problema Prático 4.10\n",
    "\n",
    "Explique o que causa o erro de sintaxe em cada instrução listada anteriormente. Depois, escreva uma versão correta de cada instrução Python."
   ]
  },
  {
   "cell_type": "code",
   "execution_count": null,
   "metadata": {},
   "outputs": [],
   "source": []
  }
 ],
 "metadata": {
  "language_info": {
   "name": "python"
  },
  "orig_nbformat": 4
 },
 "nbformat": 4,
 "nbformat_minor": 2
}
